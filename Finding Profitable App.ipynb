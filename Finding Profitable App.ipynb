{
 "cells": [
  {
   "cell_type": "code",
   "execution_count": 1,
   "id": "09ed2b65",
   "metadata": {},
   "outputs": [],
   "source": [
    "import pandas as pd\n",
    "import numpy as np\n",
    "import matplotlib.pyplot as plt"
   ]
  },
  {
   "cell_type": "code",
   "execution_count": 2,
   "id": "5383fdc6",
   "metadata": {},
   "outputs": [],
   "source": [
    "Android_App=pd.read_csv('googleplaystore.csv')"
   ]
  },
  {
   "cell_type": "code",
   "execution_count": 3,
   "id": "0c4738c0",
   "metadata": {},
   "outputs": [
    {
     "data": {
      "text/html": [
       "<div>\n",
       "<style scoped>\n",
       "    .dataframe tbody tr th:only-of-type {\n",
       "        vertical-align: middle;\n",
       "    }\n",
       "\n",
       "    .dataframe tbody tr th {\n",
       "        vertical-align: top;\n",
       "    }\n",
       "\n",
       "    .dataframe thead th {\n",
       "        text-align: right;\n",
       "    }\n",
       "</style>\n",
       "<table border=\"1\" class=\"dataframe\">\n",
       "  <thead>\n",
       "    <tr style=\"text-align: right;\">\n",
       "      <th></th>\n",
       "      <th>App</th>\n",
       "      <th>Category</th>\n",
       "      <th>Rating</th>\n",
       "      <th>Reviews</th>\n",
       "      <th>Size</th>\n",
       "      <th>Installs</th>\n",
       "      <th>Type</th>\n",
       "      <th>Price</th>\n",
       "      <th>Content Rating</th>\n",
       "      <th>Genres</th>\n",
       "      <th>Last Updated</th>\n",
       "      <th>Current Ver</th>\n",
       "      <th>Android Ver</th>\n",
       "    </tr>\n",
       "  </thead>\n",
       "  <tbody>\n",
       "    <tr>\n",
       "      <th>0</th>\n",
       "      <td>Photo Editor &amp; Candy Camera &amp; Grid &amp; ScrapBook</td>\n",
       "      <td>ART_AND_DESIGN</td>\n",
       "      <td>4.1</td>\n",
       "      <td>159</td>\n",
       "      <td>19M</td>\n",
       "      <td>10,000+</td>\n",
       "      <td>Free</td>\n",
       "      <td>0</td>\n",
       "      <td>Everyone</td>\n",
       "      <td>Art &amp; Design</td>\n",
       "      <td>January 7, 2018</td>\n",
       "      <td>1.0.0</td>\n",
       "      <td>4.0.3 and up</td>\n",
       "    </tr>\n",
       "    <tr>\n",
       "      <th>1</th>\n",
       "      <td>Coloring book moana</td>\n",
       "      <td>ART_AND_DESIGN</td>\n",
       "      <td>3.9</td>\n",
       "      <td>967</td>\n",
       "      <td>14M</td>\n",
       "      <td>500,000+</td>\n",
       "      <td>Free</td>\n",
       "      <td>0</td>\n",
       "      <td>Everyone</td>\n",
       "      <td>Art &amp; Design;Pretend Play</td>\n",
       "      <td>January 15, 2018</td>\n",
       "      <td>2.0.0</td>\n",
       "      <td>4.0.3 and up</td>\n",
       "    </tr>\n",
       "    <tr>\n",
       "      <th>2</th>\n",
       "      <td>U Launcher Lite – FREE Live Cool Themes, Hide ...</td>\n",
       "      <td>ART_AND_DESIGN</td>\n",
       "      <td>4.7</td>\n",
       "      <td>87510</td>\n",
       "      <td>8.7M</td>\n",
       "      <td>5,000,000+</td>\n",
       "      <td>Free</td>\n",
       "      <td>0</td>\n",
       "      <td>Everyone</td>\n",
       "      <td>Art &amp; Design</td>\n",
       "      <td>August 1, 2018</td>\n",
       "      <td>1.2.4</td>\n",
       "      <td>4.0.3 and up</td>\n",
       "    </tr>\n",
       "    <tr>\n",
       "      <th>3</th>\n",
       "      <td>Sketch - Draw &amp; Paint</td>\n",
       "      <td>ART_AND_DESIGN</td>\n",
       "      <td>4.5</td>\n",
       "      <td>215644</td>\n",
       "      <td>25M</td>\n",
       "      <td>50,000,000+</td>\n",
       "      <td>Free</td>\n",
       "      <td>0</td>\n",
       "      <td>Teen</td>\n",
       "      <td>Art &amp; Design</td>\n",
       "      <td>June 8, 2018</td>\n",
       "      <td>Varies with device</td>\n",
       "      <td>4.2 and up</td>\n",
       "    </tr>\n",
       "    <tr>\n",
       "      <th>4</th>\n",
       "      <td>Pixel Draw - Number Art Coloring Book</td>\n",
       "      <td>ART_AND_DESIGN</td>\n",
       "      <td>4.3</td>\n",
       "      <td>967</td>\n",
       "      <td>2.8M</td>\n",
       "      <td>100,000+</td>\n",
       "      <td>Free</td>\n",
       "      <td>0</td>\n",
       "      <td>Everyone</td>\n",
       "      <td>Art &amp; Design;Creativity</td>\n",
       "      <td>June 20, 2018</td>\n",
       "      <td>1.1</td>\n",
       "      <td>4.4 and up</td>\n",
       "    </tr>\n",
       "  </tbody>\n",
       "</table>\n",
       "</div>"
      ],
      "text/plain": [
       "                                                 App        Category  Rating  \\\n",
       "0     Photo Editor & Candy Camera & Grid & ScrapBook  ART_AND_DESIGN     4.1   \n",
       "1                                Coloring book moana  ART_AND_DESIGN     3.9   \n",
       "2  U Launcher Lite – FREE Live Cool Themes, Hide ...  ART_AND_DESIGN     4.7   \n",
       "3                              Sketch - Draw & Paint  ART_AND_DESIGN     4.5   \n",
       "4              Pixel Draw - Number Art Coloring Book  ART_AND_DESIGN     4.3   \n",
       "\n",
       "  Reviews  Size     Installs  Type Price Content Rating  \\\n",
       "0     159   19M      10,000+  Free     0       Everyone   \n",
       "1     967   14M     500,000+  Free     0       Everyone   \n",
       "2   87510  8.7M   5,000,000+  Free     0       Everyone   \n",
       "3  215644   25M  50,000,000+  Free     0           Teen   \n",
       "4     967  2.8M     100,000+  Free     0       Everyone   \n",
       "\n",
       "                      Genres      Last Updated         Current Ver  \\\n",
       "0               Art & Design   January 7, 2018               1.0.0   \n",
       "1  Art & Design;Pretend Play  January 15, 2018               2.0.0   \n",
       "2               Art & Design    August 1, 2018               1.2.4   \n",
       "3               Art & Design      June 8, 2018  Varies with device   \n",
       "4    Art & Design;Creativity     June 20, 2018                 1.1   \n",
       "\n",
       "    Android Ver  \n",
       "0  4.0.3 and up  \n",
       "1  4.0.3 and up  \n",
       "2  4.0.3 and up  \n",
       "3    4.2 and up  \n",
       "4    4.4 and up  "
      ]
     },
     "execution_count": 3,
     "metadata": {},
     "output_type": "execute_result"
    }
   ],
   "source": [
    "Android_App.head()"
   ]
  },
  {
   "cell_type": "code",
   "execution_count": 4,
   "id": "d2efe074",
   "metadata": {},
   "outputs": [
    {
     "name": "stdout",
     "output_type": "stream",
     "text": [
      "<class 'pandas.core.frame.DataFrame'>\n",
      "RangeIndex: 10841 entries, 0 to 10840\n",
      "Data columns (total 13 columns):\n",
      " #   Column          Non-Null Count  Dtype  \n",
      "---  ------          --------------  -----  \n",
      " 0   App             10841 non-null  object \n",
      " 1   Category        10841 non-null  object \n",
      " 2   Rating          9367 non-null   float64\n",
      " 3   Reviews         10841 non-null  object \n",
      " 4   Size            10841 non-null  object \n",
      " 5   Installs        10841 non-null  object \n",
      " 6   Type            10840 non-null  object \n",
      " 7   Price           10841 non-null  object \n",
      " 8   Content Rating  10840 non-null  object \n",
      " 9   Genres          10841 non-null  object \n",
      " 10  Last Updated    10841 non-null  object \n",
      " 11  Current Ver     10833 non-null  object \n",
      " 12  Android Ver     10838 non-null  object \n",
      "dtypes: float64(1), object(12)\n",
      "memory usage: 1.1+ MB\n"
     ]
    }
   ],
   "source": [
    "Android_App.info()"
   ]
  },
  {
   "cell_type": "code",
   "execution_count": 5,
   "id": "29c5947c",
   "metadata": {},
   "outputs": [
    {
     "data": {
      "text/plain": [
       "(10841, 13)"
      ]
     },
     "execution_count": 5,
     "metadata": {},
     "output_type": "execute_result"
    }
   ],
   "source": [
    "Android_App.shape"
   ]
  },
  {
   "cell_type": "code",
   "execution_count": 6,
   "id": "ba06accc",
   "metadata": {},
   "outputs": [
    {
     "data": {
      "text/plain": [
       "App            0\n",
       "Category       0\n",
       "Rating      1474\n",
       "Reviews        0\n",
       "Installs       0\n",
       "Type           1\n",
       "Price          0\n",
       "dtype: int64"
      ]
     },
     "execution_count": 6,
     "metadata": {},
     "output_type": "execute_result"
    }
   ],
   "source": [
    "Android_App[[\"App\",\"Category\",\"Rating\",\"Reviews\",\"Installs\",\"Type\",\"Price\"]].isnull().sum()"
   ]
  },
  {
   "cell_type": "code",
   "execution_count": 7,
   "id": "e30011f9",
   "metadata": {},
   "outputs": [
    {
     "data": {
      "text/plain": [
       "1"
      ]
     },
     "execution_count": 7,
     "metadata": {},
     "output_type": "execute_result"
    }
   ],
   "source": [
    "Android_App[\"Type\"].isnull().sum()"
   ]
  },
  {
   "cell_type": "markdown",
   "id": "c2ce552f",
   "metadata": {},
   "source": [
    "# Remove Incorect Filed "
   ]
  },
  {
   "cell_type": "code",
   "execution_count": 8,
   "id": "3cdafce9",
   "metadata": {},
   "outputs": [
    {
     "data": {
      "text/html": [
       "<div>\n",
       "<style scoped>\n",
       "    .dataframe tbody tr th:only-of-type {\n",
       "        vertical-align: middle;\n",
       "    }\n",
       "\n",
       "    .dataframe tbody tr th {\n",
       "        vertical-align: top;\n",
       "    }\n",
       "\n",
       "    .dataframe thead th {\n",
       "        text-align: right;\n",
       "    }\n",
       "</style>\n",
       "<table border=\"1\" class=\"dataframe\">\n",
       "  <thead>\n",
       "    <tr style=\"text-align: right;\">\n",
       "      <th></th>\n",
       "      <th>App</th>\n",
       "      <th>Category</th>\n",
       "      <th>Rating</th>\n",
       "      <th>Reviews</th>\n",
       "      <th>Size</th>\n",
       "      <th>Installs</th>\n",
       "      <th>Type</th>\n",
       "      <th>Price</th>\n",
       "      <th>Content Rating</th>\n",
       "      <th>Genres</th>\n",
       "      <th>Last Updated</th>\n",
       "      <th>Current Ver</th>\n",
       "      <th>Android Ver</th>\n",
       "    </tr>\n",
       "  </thead>\n",
       "  <tbody>\n",
       "    <tr>\n",
       "      <th>10470</th>\n",
       "      <td>Jazz Wi-Fi</td>\n",
       "      <td>COMMUNICATION</td>\n",
       "      <td>3.4</td>\n",
       "      <td>49</td>\n",
       "      <td>4.0M</td>\n",
       "      <td>10,000+</td>\n",
       "      <td>Free</td>\n",
       "      <td>0</td>\n",
       "      <td>Everyone</td>\n",
       "      <td>Communication</td>\n",
       "      <td>February 10, 2017</td>\n",
       "      <td>0.1</td>\n",
       "      <td>2.3 and up</td>\n",
       "    </tr>\n",
       "    <tr>\n",
       "      <th>10471</th>\n",
       "      <td>Xposed Wi-Fi-Pwd</td>\n",
       "      <td>PERSONALIZATION</td>\n",
       "      <td>3.5</td>\n",
       "      <td>1042</td>\n",
       "      <td>404k</td>\n",
       "      <td>100,000+</td>\n",
       "      <td>Free</td>\n",
       "      <td>0</td>\n",
       "      <td>Everyone</td>\n",
       "      <td>Personalization</td>\n",
       "      <td>August 5, 2014</td>\n",
       "      <td>3.0.0</td>\n",
       "      <td>4.0.3 and up</td>\n",
       "    </tr>\n",
       "    <tr>\n",
       "      <th>10472</th>\n",
       "      <td>Life Made WI-Fi Touchscreen Photo Frame</td>\n",
       "      <td>1.9</td>\n",
       "      <td>19.0</td>\n",
       "      <td>3.0M</td>\n",
       "      <td>1,000+</td>\n",
       "      <td>Free</td>\n",
       "      <td>0</td>\n",
       "      <td>Everyone</td>\n",
       "      <td>NaN</td>\n",
       "      <td>February 11, 2018</td>\n",
       "      <td>1.0.19</td>\n",
       "      <td>4.0 and up</td>\n",
       "      <td>NaN</td>\n",
       "    </tr>\n",
       "  </tbody>\n",
       "</table>\n",
       "</div>"
      ],
      "text/plain": [
       "                                           App         Category  Rating  \\\n",
       "10470                               Jazz Wi-Fi    COMMUNICATION     3.4   \n",
       "10471                         Xposed Wi-Fi-Pwd  PERSONALIZATION     3.5   \n",
       "10472  Life Made WI-Fi Touchscreen Photo Frame              1.9    19.0   \n",
       "\n",
       "      Reviews    Size  Installs  Type     Price Content Rating  \\\n",
       "10470      49    4.0M   10,000+  Free         0       Everyone   \n",
       "10471    1042    404k  100,000+  Free         0       Everyone   \n",
       "10472    3.0M  1,000+      Free     0  Everyone            NaN   \n",
       "\n",
       "                  Genres       Last Updated Current Ver   Android Ver  \n",
       "10470      Communication  February 10, 2017         0.1    2.3 and up  \n",
       "10471    Personalization     August 5, 2014       3.0.0  4.0.3 and up  \n",
       "10472  February 11, 2018             1.0.19  4.0 and up           NaN  "
      ]
     },
     "execution_count": 8,
     "metadata": {},
     "output_type": "execute_result"
    }
   ],
   "source": [
    "Android_App.iloc[[10470,10471,10472]]"
   ]
  },
  {
   "cell_type": "code",
   "execution_count": 9,
   "id": "533db4db",
   "metadata": {},
   "outputs": [],
   "source": [
    "Android_App.drop(10472,axis=0,inplace=True)"
   ]
  },
  {
   "cell_type": "code",
   "execution_count": 10,
   "id": "38a35acf",
   "metadata": {},
   "outputs": [
    {
     "data": {
      "text/html": [
       "<div>\n",
       "<style scoped>\n",
       "    .dataframe tbody tr th:only-of-type {\n",
       "        vertical-align: middle;\n",
       "    }\n",
       "\n",
       "    .dataframe tbody tr th {\n",
       "        vertical-align: top;\n",
       "    }\n",
       "\n",
       "    .dataframe thead th {\n",
       "        text-align: right;\n",
       "    }\n",
       "</style>\n",
       "<table border=\"1\" class=\"dataframe\">\n",
       "  <thead>\n",
       "    <tr style=\"text-align: right;\">\n",
       "      <th></th>\n",
       "      <th>App</th>\n",
       "      <th>Category</th>\n",
       "      <th>Rating</th>\n",
       "      <th>Reviews</th>\n",
       "      <th>Size</th>\n",
       "      <th>Installs</th>\n",
       "      <th>Type</th>\n",
       "      <th>Price</th>\n",
       "      <th>Content Rating</th>\n",
       "      <th>Genres</th>\n",
       "      <th>Last Updated</th>\n",
       "      <th>Current Ver</th>\n",
       "      <th>Android Ver</th>\n",
       "    </tr>\n",
       "  </thead>\n",
       "  <tbody>\n",
       "    <tr>\n",
       "      <th>10470</th>\n",
       "      <td>Jazz Wi-Fi</td>\n",
       "      <td>COMMUNICATION</td>\n",
       "      <td>3.4</td>\n",
       "      <td>49</td>\n",
       "      <td>4.0M</td>\n",
       "      <td>10,000+</td>\n",
       "      <td>Free</td>\n",
       "      <td>0</td>\n",
       "      <td>Everyone</td>\n",
       "      <td>Communication</td>\n",
       "      <td>February 10, 2017</td>\n",
       "      <td>0.1</td>\n",
       "      <td>2.3 and up</td>\n",
       "    </tr>\n",
       "    <tr>\n",
       "      <th>10471</th>\n",
       "      <td>Xposed Wi-Fi-Pwd</td>\n",
       "      <td>PERSONALIZATION</td>\n",
       "      <td>3.5</td>\n",
       "      <td>1042</td>\n",
       "      <td>404k</td>\n",
       "      <td>100,000+</td>\n",
       "      <td>Free</td>\n",
       "      <td>0</td>\n",
       "      <td>Everyone</td>\n",
       "      <td>Personalization</td>\n",
       "      <td>August 5, 2014</td>\n",
       "      <td>3.0.0</td>\n",
       "      <td>4.0.3 and up</td>\n",
       "    </tr>\n",
       "    <tr>\n",
       "      <th>10473</th>\n",
       "      <td>osmino Wi-Fi: free WiFi</td>\n",
       "      <td>TOOLS</td>\n",
       "      <td>4.2</td>\n",
       "      <td>134203</td>\n",
       "      <td>4.1M</td>\n",
       "      <td>10,000,000+</td>\n",
       "      <td>Free</td>\n",
       "      <td>0</td>\n",
       "      <td>Everyone</td>\n",
       "      <td>Tools</td>\n",
       "      <td>August 7, 2018</td>\n",
       "      <td>6.06.14</td>\n",
       "      <td>4.4 and up</td>\n",
       "    </tr>\n",
       "  </tbody>\n",
       "</table>\n",
       "</div>"
      ],
      "text/plain": [
       "                           App         Category  Rating Reviews  Size  \\\n",
       "10470               Jazz Wi-Fi    COMMUNICATION     3.4      49  4.0M   \n",
       "10471         Xposed Wi-Fi-Pwd  PERSONALIZATION     3.5    1042  404k   \n",
       "10473  osmino Wi-Fi: free WiFi            TOOLS     4.2  134203  4.1M   \n",
       "\n",
       "          Installs  Type Price Content Rating           Genres  \\\n",
       "10470      10,000+  Free     0       Everyone    Communication   \n",
       "10471     100,000+  Free     0       Everyone  Personalization   \n",
       "10473  10,000,000+  Free     0       Everyone            Tools   \n",
       "\n",
       "            Last Updated Current Ver   Android Ver  \n",
       "10470  February 10, 2017         0.1    2.3 and up  \n",
       "10471     August 5, 2014       3.0.0  4.0.3 and up  \n",
       "10473     August 7, 2018     6.06.14    4.4 and up  "
      ]
     },
     "execution_count": 10,
     "metadata": {},
     "output_type": "execute_result"
    }
   ],
   "source": [
    "Android_App.iloc[[10470,10471,10472]]"
   ]
  },
  {
   "cell_type": "code",
   "execution_count": 11,
   "id": "6e3a0939",
   "metadata": {},
   "outputs": [
    {
     "data": {
      "text/plain": [
       "1181"
      ]
     },
     "execution_count": 11,
     "metadata": {},
     "output_type": "execute_result"
    }
   ],
   "source": [
    "Android_App.duplicated(\"App\").sum()"
   ]
  },
  {
   "cell_type": "code",
   "execution_count": 12,
   "id": "f61ad9cb",
   "metadata": {},
   "outputs": [
    {
     "data": {
      "text/html": [
       "<div>\n",
       "<style scoped>\n",
       "    .dataframe tbody tr th:only-of-type {\n",
       "        vertical-align: middle;\n",
       "    }\n",
       "\n",
       "    .dataframe tbody tr th {\n",
       "        vertical-align: top;\n",
       "    }\n",
       "\n",
       "    .dataframe thead th {\n",
       "        text-align: right;\n",
       "    }\n",
       "</style>\n",
       "<table border=\"1\" class=\"dataframe\">\n",
       "  <thead>\n",
       "    <tr style=\"text-align: right;\">\n",
       "      <th></th>\n",
       "      <th>App</th>\n",
       "      <th>Category</th>\n",
       "      <th>Rating</th>\n",
       "      <th>Reviews</th>\n",
       "      <th>Size</th>\n",
       "      <th>Installs</th>\n",
       "      <th>Type</th>\n",
       "      <th>Price</th>\n",
       "      <th>Content Rating</th>\n",
       "      <th>Genres</th>\n",
       "      <th>Last Updated</th>\n",
       "      <th>Current Ver</th>\n",
       "      <th>Android Ver</th>\n",
       "    </tr>\n",
       "  </thead>\n",
       "  <tbody>\n",
       "    <tr>\n",
       "      <th>229</th>\n",
       "      <td>Quick PDF Scanner + OCR FREE</td>\n",
       "      <td>BUSINESS</td>\n",
       "      <td>4.2</td>\n",
       "      <td>80805</td>\n",
       "      <td>Varies with device</td>\n",
       "      <td>5,000,000+</td>\n",
       "      <td>Free</td>\n",
       "      <td>0</td>\n",
       "      <td>Everyone</td>\n",
       "      <td>Business</td>\n",
       "      <td>February 26, 2018</td>\n",
       "      <td>Varies with device</td>\n",
       "      <td>4.0.3 and up</td>\n",
       "    </tr>\n",
       "    <tr>\n",
       "      <th>236</th>\n",
       "      <td>Box</td>\n",
       "      <td>BUSINESS</td>\n",
       "      <td>4.2</td>\n",
       "      <td>159872</td>\n",
       "      <td>Varies with device</td>\n",
       "      <td>10,000,000+</td>\n",
       "      <td>Free</td>\n",
       "      <td>0</td>\n",
       "      <td>Everyone</td>\n",
       "      <td>Business</td>\n",
       "      <td>July 31, 2018</td>\n",
       "      <td>Varies with device</td>\n",
       "      <td>Varies with device</td>\n",
       "    </tr>\n",
       "    <tr>\n",
       "      <th>239</th>\n",
       "      <td>Google My Business</td>\n",
       "      <td>BUSINESS</td>\n",
       "      <td>4.4</td>\n",
       "      <td>70991</td>\n",
       "      <td>Varies with device</td>\n",
       "      <td>5,000,000+</td>\n",
       "      <td>Free</td>\n",
       "      <td>0</td>\n",
       "      <td>Everyone</td>\n",
       "      <td>Business</td>\n",
       "      <td>July 24, 2018</td>\n",
       "      <td>2.19.0.204537701</td>\n",
       "      <td>4.4 and up</td>\n",
       "    </tr>\n",
       "    <tr>\n",
       "      <th>256</th>\n",
       "      <td>ZOOM Cloud Meetings</td>\n",
       "      <td>BUSINESS</td>\n",
       "      <td>4.4</td>\n",
       "      <td>31614</td>\n",
       "      <td>37M</td>\n",
       "      <td>10,000,000+</td>\n",
       "      <td>Free</td>\n",
       "      <td>0</td>\n",
       "      <td>Everyone</td>\n",
       "      <td>Business</td>\n",
       "      <td>July 20, 2018</td>\n",
       "      <td>4.1.28165.0716</td>\n",
       "      <td>4.0 and up</td>\n",
       "    </tr>\n",
       "    <tr>\n",
       "      <th>261</th>\n",
       "      <td>join.me - Simple Meetings</td>\n",
       "      <td>BUSINESS</td>\n",
       "      <td>4.0</td>\n",
       "      <td>6989</td>\n",
       "      <td>Varies with device</td>\n",
       "      <td>1,000,000+</td>\n",
       "      <td>Free</td>\n",
       "      <td>0</td>\n",
       "      <td>Everyone</td>\n",
       "      <td>Business</td>\n",
       "      <td>July 16, 2018</td>\n",
       "      <td>4.3.0.508</td>\n",
       "      <td>4.4 and up</td>\n",
       "    </tr>\n",
       "    <tr>\n",
       "      <th>265</th>\n",
       "      <td>Box</td>\n",
       "      <td>BUSINESS</td>\n",
       "      <td>4.2</td>\n",
       "      <td>159872</td>\n",
       "      <td>Varies with device</td>\n",
       "      <td>10,000,000+</td>\n",
       "      <td>Free</td>\n",
       "      <td>0</td>\n",
       "      <td>Everyone</td>\n",
       "      <td>Business</td>\n",
       "      <td>July 31, 2018</td>\n",
       "      <td>Varies with device</td>\n",
       "      <td>Varies with device</td>\n",
       "    </tr>\n",
       "    <tr>\n",
       "      <th>266</th>\n",
       "      <td>Zenefits</td>\n",
       "      <td>BUSINESS</td>\n",
       "      <td>4.2</td>\n",
       "      <td>296</td>\n",
       "      <td>14M</td>\n",
       "      <td>50,000+</td>\n",
       "      <td>Free</td>\n",
       "      <td>0</td>\n",
       "      <td>Everyone</td>\n",
       "      <td>Business</td>\n",
       "      <td>June 15, 2018</td>\n",
       "      <td>3.2.1</td>\n",
       "      <td>4.1 and up</td>\n",
       "    </tr>\n",
       "    <tr>\n",
       "      <th>267</th>\n",
       "      <td>Google Ads</td>\n",
       "      <td>BUSINESS</td>\n",
       "      <td>4.3</td>\n",
       "      <td>29313</td>\n",
       "      <td>20M</td>\n",
       "      <td>5,000,000+</td>\n",
       "      <td>Free</td>\n",
       "      <td>0</td>\n",
       "      <td>Everyone</td>\n",
       "      <td>Business</td>\n",
       "      <td>July 30, 2018</td>\n",
       "      <td>1.12.0</td>\n",
       "      <td>4.0.3 and up</td>\n",
       "    </tr>\n",
       "    <tr>\n",
       "      <th>268</th>\n",
       "      <td>Google My Business</td>\n",
       "      <td>BUSINESS</td>\n",
       "      <td>4.4</td>\n",
       "      <td>70991</td>\n",
       "      <td>Varies with device</td>\n",
       "      <td>5,000,000+</td>\n",
       "      <td>Free</td>\n",
       "      <td>0</td>\n",
       "      <td>Everyone</td>\n",
       "      <td>Business</td>\n",
       "      <td>July 24, 2018</td>\n",
       "      <td>2.19.0.204537701</td>\n",
       "      <td>4.4 and up</td>\n",
       "    </tr>\n",
       "    <tr>\n",
       "      <th>269</th>\n",
       "      <td>Slack</td>\n",
       "      <td>BUSINESS</td>\n",
       "      <td>4.4</td>\n",
       "      <td>51507</td>\n",
       "      <td>Varies with device</td>\n",
       "      <td>5,000,000+</td>\n",
       "      <td>Free</td>\n",
       "      <td>0</td>\n",
       "      <td>Everyone</td>\n",
       "      <td>Business</td>\n",
       "      <td>August 2, 2018</td>\n",
       "      <td>Varies with device</td>\n",
       "      <td>Varies with device</td>\n",
       "    </tr>\n",
       "    <tr>\n",
       "      <th>270</th>\n",
       "      <td>FreshBooks Classic</td>\n",
       "      <td>BUSINESS</td>\n",
       "      <td>4.1</td>\n",
       "      <td>1802</td>\n",
       "      <td>26M</td>\n",
       "      <td>100,000+</td>\n",
       "      <td>Free</td>\n",
       "      <td>0</td>\n",
       "      <td>Everyone</td>\n",
       "      <td>Business</td>\n",
       "      <td>April 18, 2018</td>\n",
       "      <td>1.7.14</td>\n",
       "      <td>4.2 and up</td>\n",
       "    </tr>\n",
       "    <tr>\n",
       "      <th>271</th>\n",
       "      <td>Insightly CRM</td>\n",
       "      <td>BUSINESS</td>\n",
       "      <td>3.8</td>\n",
       "      <td>1383</td>\n",
       "      <td>51M</td>\n",
       "      <td>100,000+</td>\n",
       "      <td>Free</td>\n",
       "      <td>0</td>\n",
       "      <td>Everyone</td>\n",
       "      <td>Business</td>\n",
       "      <td>July 12, 2018</td>\n",
       "      <td>3.24.1</td>\n",
       "      <td>5.0 and up</td>\n",
       "    </tr>\n",
       "    <tr>\n",
       "      <th>272</th>\n",
       "      <td>QuickBooks Accounting: Invoicing &amp; Expenses</td>\n",
       "      <td>BUSINESS</td>\n",
       "      <td>4.3</td>\n",
       "      <td>23175</td>\n",
       "      <td>41M</td>\n",
       "      <td>1,000,000+</td>\n",
       "      <td>Free</td>\n",
       "      <td>0</td>\n",
       "      <td>Everyone</td>\n",
       "      <td>Business</td>\n",
       "      <td>July 13, 2018</td>\n",
       "      <td>18.7</td>\n",
       "      <td>4.1 and up</td>\n",
       "    </tr>\n",
       "    <tr>\n",
       "      <th>273</th>\n",
       "      <td>HipChat - Chat Built for Teams</td>\n",
       "      <td>BUSINESS</td>\n",
       "      <td>3.8</td>\n",
       "      <td>5868</td>\n",
       "      <td>20M</td>\n",
       "      <td>500,000+</td>\n",
       "      <td>Free</td>\n",
       "      <td>0</td>\n",
       "      <td>Everyone</td>\n",
       "      <td>Business</td>\n",
       "      <td>July 3, 2018</td>\n",
       "      <td>3.19.005</td>\n",
       "      <td>4.1 and up</td>\n",
       "    </tr>\n",
       "    <tr>\n",
       "      <th>274</th>\n",
       "      <td>Xero Accounting Software</td>\n",
       "      <td>BUSINESS</td>\n",
       "      <td>3.5</td>\n",
       "      <td>2111</td>\n",
       "      <td>Varies with device</td>\n",
       "      <td>100,000+</td>\n",
       "      <td>Free</td>\n",
       "      <td>0</td>\n",
       "      <td>Everyone</td>\n",
       "      <td>Business</td>\n",
       "      <td>July 30, 2018</td>\n",
       "      <td>Varies with device</td>\n",
       "      <td>Varies with device</td>\n",
       "    </tr>\n",
       "  </tbody>\n",
       "</table>\n",
       "</div>"
      ],
      "text/plain": [
       "                                             App  Category  Rating Reviews  \\\n",
       "229                 Quick PDF Scanner + OCR FREE  BUSINESS     4.2   80805   \n",
       "236                                          Box  BUSINESS     4.2  159872   \n",
       "239                           Google My Business  BUSINESS     4.4   70991   \n",
       "256                          ZOOM Cloud Meetings  BUSINESS     4.4   31614   \n",
       "261                    join.me - Simple Meetings  BUSINESS     4.0    6989   \n",
       "265                                          Box  BUSINESS     4.2  159872   \n",
       "266                                     Zenefits  BUSINESS     4.2     296   \n",
       "267                                   Google Ads  BUSINESS     4.3   29313   \n",
       "268                           Google My Business  BUSINESS     4.4   70991   \n",
       "269                                        Slack  BUSINESS     4.4   51507   \n",
       "270                           FreshBooks Classic  BUSINESS     4.1    1802   \n",
       "271                                Insightly CRM  BUSINESS     3.8    1383   \n",
       "272  QuickBooks Accounting: Invoicing & Expenses  BUSINESS     4.3   23175   \n",
       "273               HipChat - Chat Built for Teams  BUSINESS     3.8    5868   \n",
       "274                     Xero Accounting Software  BUSINESS     3.5    2111   \n",
       "\n",
       "                   Size     Installs  Type Price Content Rating    Genres  \\\n",
       "229  Varies with device   5,000,000+  Free     0       Everyone  Business   \n",
       "236  Varies with device  10,000,000+  Free     0       Everyone  Business   \n",
       "239  Varies with device   5,000,000+  Free     0       Everyone  Business   \n",
       "256                 37M  10,000,000+  Free     0       Everyone  Business   \n",
       "261  Varies with device   1,000,000+  Free     0       Everyone  Business   \n",
       "265  Varies with device  10,000,000+  Free     0       Everyone  Business   \n",
       "266                 14M      50,000+  Free     0       Everyone  Business   \n",
       "267                 20M   5,000,000+  Free     0       Everyone  Business   \n",
       "268  Varies with device   5,000,000+  Free     0       Everyone  Business   \n",
       "269  Varies with device   5,000,000+  Free     0       Everyone  Business   \n",
       "270                 26M     100,000+  Free     0       Everyone  Business   \n",
       "271                 51M     100,000+  Free     0       Everyone  Business   \n",
       "272                 41M   1,000,000+  Free     0       Everyone  Business   \n",
       "273                 20M     500,000+  Free     0       Everyone  Business   \n",
       "274  Varies with device     100,000+  Free     0       Everyone  Business   \n",
       "\n",
       "          Last Updated         Current Ver         Android Ver  \n",
       "229  February 26, 2018  Varies with device        4.0.3 and up  \n",
       "236      July 31, 2018  Varies with device  Varies with device  \n",
       "239      July 24, 2018    2.19.0.204537701          4.4 and up  \n",
       "256      July 20, 2018      4.1.28165.0716          4.0 and up  \n",
       "261      July 16, 2018           4.3.0.508          4.4 and up  \n",
       "265      July 31, 2018  Varies with device  Varies with device  \n",
       "266      June 15, 2018               3.2.1          4.1 and up  \n",
       "267      July 30, 2018              1.12.0        4.0.3 and up  \n",
       "268      July 24, 2018    2.19.0.204537701          4.4 and up  \n",
       "269     August 2, 2018  Varies with device  Varies with device  \n",
       "270     April 18, 2018              1.7.14          4.2 and up  \n",
       "271      July 12, 2018              3.24.1          5.0 and up  \n",
       "272      July 13, 2018                18.7          4.1 and up  \n",
       "273       July 3, 2018            3.19.005          4.1 and up  \n",
       "274      July 30, 2018  Varies with device  Varies with device  "
      ]
     },
     "execution_count": 12,
     "metadata": {},
     "output_type": "execute_result"
    }
   ],
   "source": [
    "Android_App[Android_App.duplicated(\"App\")].head(15)"
   ]
  },
  {
   "cell_type": "code",
   "execution_count": 13,
   "id": "3ebddb75",
   "metadata": {},
   "outputs": [],
   "source": [
    "Android_App[\"Reviews\"]=Android_App[\"Reviews\"].astype(float)"
   ]
  },
  {
   "cell_type": "code",
   "execution_count": 14,
   "id": "e14d9485",
   "metadata": {},
   "outputs": [],
   "source": [
    "Android_App.sort_values(\"Reviews\",inplace=True,ascending=False)"
   ]
  },
  {
   "cell_type": "code",
   "execution_count": 15,
   "id": "c79698bc",
   "metadata": {},
   "outputs": [
    {
     "data": {
      "text/html": [
       "<div>\n",
       "<style scoped>\n",
       "    .dataframe tbody tr th:only-of-type {\n",
       "        vertical-align: middle;\n",
       "    }\n",
       "\n",
       "    .dataframe tbody tr th {\n",
       "        vertical-align: top;\n",
       "    }\n",
       "\n",
       "    .dataframe thead th {\n",
       "        text-align: right;\n",
       "    }\n",
       "</style>\n",
       "<table border=\"1\" class=\"dataframe\">\n",
       "  <thead>\n",
       "    <tr style=\"text-align: right;\">\n",
       "      <th></th>\n",
       "      <th>App</th>\n",
       "      <th>Category</th>\n",
       "      <th>Rating</th>\n",
       "      <th>Reviews</th>\n",
       "      <th>Size</th>\n",
       "      <th>Installs</th>\n",
       "      <th>Type</th>\n",
       "      <th>Price</th>\n",
       "      <th>Content Rating</th>\n",
       "      <th>Genres</th>\n",
       "      <th>Last Updated</th>\n",
       "      <th>Current Ver</th>\n",
       "      <th>Android Ver</th>\n",
       "    </tr>\n",
       "  </thead>\n",
       "  <tbody>\n",
       "    <tr>\n",
       "      <th>2544</th>\n",
       "      <td>Facebook</td>\n",
       "      <td>SOCIAL</td>\n",
       "      <td>4.1</td>\n",
       "      <td>78158306.0</td>\n",
       "      <td>Varies with device</td>\n",
       "      <td>1,000,000,000+</td>\n",
       "      <td>Free</td>\n",
       "      <td>0</td>\n",
       "      <td>Teen</td>\n",
       "      <td>Social</td>\n",
       "      <td>August 3, 2018</td>\n",
       "      <td>Varies with device</td>\n",
       "      <td>Varies with device</td>\n",
       "    </tr>\n",
       "    <tr>\n",
       "      <th>3943</th>\n",
       "      <td>Facebook</td>\n",
       "      <td>SOCIAL</td>\n",
       "      <td>4.1</td>\n",
       "      <td>78128208.0</td>\n",
       "      <td>Varies with device</td>\n",
       "      <td>1,000,000,000+</td>\n",
       "      <td>Free</td>\n",
       "      <td>0</td>\n",
       "      <td>Teen</td>\n",
       "      <td>Social</td>\n",
       "      <td>August 3, 2018</td>\n",
       "      <td>Varies with device</td>\n",
       "      <td>Varies with device</td>\n",
       "    </tr>\n",
       "    <tr>\n",
       "      <th>381</th>\n",
       "      <td>WhatsApp Messenger</td>\n",
       "      <td>COMMUNICATION</td>\n",
       "      <td>4.4</td>\n",
       "      <td>69119316.0</td>\n",
       "      <td>Varies with device</td>\n",
       "      <td>1,000,000,000+</td>\n",
       "      <td>Free</td>\n",
       "      <td>0</td>\n",
       "      <td>Everyone</td>\n",
       "      <td>Communication</td>\n",
       "      <td>August 3, 2018</td>\n",
       "      <td>Varies with device</td>\n",
       "      <td>Varies with device</td>\n",
       "    </tr>\n",
       "    <tr>\n",
       "      <th>336</th>\n",
       "      <td>WhatsApp Messenger</td>\n",
       "      <td>COMMUNICATION</td>\n",
       "      <td>4.4</td>\n",
       "      <td>69119316.0</td>\n",
       "      <td>Varies with device</td>\n",
       "      <td>1,000,000,000+</td>\n",
       "      <td>Free</td>\n",
       "      <td>0</td>\n",
       "      <td>Everyone</td>\n",
       "      <td>Communication</td>\n",
       "      <td>August 3, 2018</td>\n",
       "      <td>Varies with device</td>\n",
       "      <td>Varies with device</td>\n",
       "    </tr>\n",
       "    <tr>\n",
       "      <th>3904</th>\n",
       "      <td>WhatsApp Messenger</td>\n",
       "      <td>COMMUNICATION</td>\n",
       "      <td>4.4</td>\n",
       "      <td>69109672.0</td>\n",
       "      <td>Varies with device</td>\n",
       "      <td>1,000,000,000+</td>\n",
       "      <td>Free</td>\n",
       "      <td>0</td>\n",
       "      <td>Everyone</td>\n",
       "      <td>Communication</td>\n",
       "      <td>August 3, 2018</td>\n",
       "      <td>Varies with device</td>\n",
       "      <td>Varies with device</td>\n",
       "    </tr>\n",
       "  </tbody>\n",
       "</table>\n",
       "</div>"
      ],
      "text/plain": [
       "                     App       Category  Rating     Reviews  \\\n",
       "2544            Facebook         SOCIAL     4.1  78158306.0   \n",
       "3943            Facebook         SOCIAL     4.1  78128208.0   \n",
       "381   WhatsApp Messenger  COMMUNICATION     4.4  69119316.0   \n",
       "336   WhatsApp Messenger  COMMUNICATION     4.4  69119316.0   \n",
       "3904  WhatsApp Messenger  COMMUNICATION     4.4  69109672.0   \n",
       "\n",
       "                    Size        Installs  Type Price Content Rating  \\\n",
       "2544  Varies with device  1,000,000,000+  Free     0           Teen   \n",
       "3943  Varies with device  1,000,000,000+  Free     0           Teen   \n",
       "381   Varies with device  1,000,000,000+  Free     0       Everyone   \n",
       "336   Varies with device  1,000,000,000+  Free     0       Everyone   \n",
       "3904  Varies with device  1,000,000,000+  Free     0       Everyone   \n",
       "\n",
       "             Genres    Last Updated         Current Ver         Android Ver  \n",
       "2544         Social  August 3, 2018  Varies with device  Varies with device  \n",
       "3943         Social  August 3, 2018  Varies with device  Varies with device  \n",
       "381   Communication  August 3, 2018  Varies with device  Varies with device  \n",
       "336   Communication  August 3, 2018  Varies with device  Varies with device  \n",
       "3904  Communication  August 3, 2018  Varies with device  Varies with device  "
      ]
     },
     "execution_count": 15,
     "metadata": {},
     "output_type": "execute_result"
    }
   ],
   "source": [
    "Android_App.head()"
   ]
  },
  {
   "cell_type": "code",
   "execution_count": 16,
   "id": "098a93a5",
   "metadata": {},
   "outputs": [],
   "source": [
    "Android_App.drop_duplicates('App',keep='first',inplace=True)"
   ]
  },
  {
   "cell_type": "code",
   "execution_count": 17,
   "id": "9235dfd0",
   "metadata": {},
   "outputs": [
    {
     "data": {
      "text/plain": [
       "App                  0\n",
       "Category             0\n",
       "Rating            1463\n",
       "Reviews              0\n",
       "Size                 0\n",
       "Installs             0\n",
       "Type                 1\n",
       "Price                0\n",
       "Content Rating       0\n",
       "Genres               0\n",
       "Last Updated         0\n",
       "Current Ver          8\n",
       "Android Ver          2\n",
       "dtype: int64"
      ]
     },
     "execution_count": 17,
     "metadata": {},
     "output_type": "execute_result"
    }
   ],
   "source": [
    "Android_App.isnull().sum()"
   ]
  },
  {
   "cell_type": "code",
   "execution_count": 18,
   "id": "e6ebb111",
   "metadata": {},
   "outputs": [
    {
     "data": {
      "text/plain": [
       "array(['Free', 'Paid', nan], dtype=object)"
      ]
     },
     "execution_count": 18,
     "metadata": {},
     "output_type": "execute_result"
    }
   ],
   "source": [
    "Android_App[\"Type\"].unique()"
   ]
  },
  {
   "cell_type": "code",
   "execution_count": 19,
   "id": "d3b8f312",
   "metadata": {},
   "outputs": [
    {
     "data": {
      "text/html": [
       "<div>\n",
       "<style scoped>\n",
       "    .dataframe tbody tr th:only-of-type {\n",
       "        vertical-align: middle;\n",
       "    }\n",
       "\n",
       "    .dataframe tbody tr th {\n",
       "        vertical-align: top;\n",
       "    }\n",
       "\n",
       "    .dataframe thead th {\n",
       "        text-align: right;\n",
       "    }\n",
       "</style>\n",
       "<table border=\"1\" class=\"dataframe\">\n",
       "  <thead>\n",
       "    <tr style=\"text-align: right;\">\n",
       "      <th></th>\n",
       "      <th>App</th>\n",
       "      <th>Category</th>\n",
       "      <th>Rating</th>\n",
       "      <th>Reviews</th>\n",
       "      <th>Size</th>\n",
       "      <th>Installs</th>\n",
       "      <th>Type</th>\n",
       "      <th>Price</th>\n",
       "      <th>Content Rating</th>\n",
       "      <th>Genres</th>\n",
       "      <th>Last Updated</th>\n",
       "      <th>Current Ver</th>\n",
       "      <th>Android Ver</th>\n",
       "    </tr>\n",
       "  </thead>\n",
       "  <tbody>\n",
       "    <tr>\n",
       "      <th>9148</th>\n",
       "      <td>Command &amp; Conquer: Rivals</td>\n",
       "      <td>FAMILY</td>\n",
       "      <td>NaN</td>\n",
       "      <td>0.0</td>\n",
       "      <td>Varies with device</td>\n",
       "      <td>0</td>\n",
       "      <td>NaN</td>\n",
       "      <td>0</td>\n",
       "      <td>Everyone 10+</td>\n",
       "      <td>Strategy</td>\n",
       "      <td>June 28, 2018</td>\n",
       "      <td>Varies with device</td>\n",
       "      <td>Varies with device</td>\n",
       "    </tr>\n",
       "  </tbody>\n",
       "</table>\n",
       "</div>"
      ],
      "text/plain": [
       "                            App Category  Rating  Reviews                Size  \\\n",
       "9148  Command & Conquer: Rivals   FAMILY     NaN      0.0  Varies with device   \n",
       "\n",
       "     Installs Type Price Content Rating    Genres   Last Updated  \\\n",
       "9148        0  NaN     0   Everyone 10+  Strategy  June 28, 2018   \n",
       "\n",
       "             Current Ver         Android Ver  \n",
       "9148  Varies with device  Varies with device  "
      ]
     },
     "execution_count": 19,
     "metadata": {},
     "output_type": "execute_result"
    }
   ],
   "source": [
    "Android_App[Android_App[\"Type\"].isnull()]"
   ]
  },
  {
   "cell_type": "code",
   "execution_count": 20,
   "id": "0c37899f",
   "metadata": {},
   "outputs": [
    {
     "data": {
      "text/plain": [
       "Free    8904\n",
       "Paid     754\n",
       "NaN        1\n",
       "Name: Type, dtype: int64"
      ]
     },
     "execution_count": 20,
     "metadata": {},
     "output_type": "execute_result"
    }
   ],
   "source": [
    "Android_App[\"Type\"].value_counts(dropna=False)"
   ]
  },
  {
   "cell_type": "markdown",
   "id": "85b47cb5",
   "metadata": {},
   "source": [
    "We Need to Make Free App Therefore Use Free Type Of Android Apps"
   ]
  },
  {
   "cell_type": "code",
   "execution_count": 21,
   "id": "64f5397e",
   "metadata": {},
   "outputs": [],
   "source": [
    "Android=Android_App[Android_App[\"Type\"]==\"Free\"]"
   ]
  },
  {
   "cell_type": "code",
   "execution_count": 22,
   "id": "65220537",
   "metadata": {},
   "outputs": [
    {
     "data": {
      "text/html": [
       "<div>\n",
       "<style scoped>\n",
       "    .dataframe tbody tr th:only-of-type {\n",
       "        vertical-align: middle;\n",
       "    }\n",
       "\n",
       "    .dataframe tbody tr th {\n",
       "        vertical-align: top;\n",
       "    }\n",
       "\n",
       "    .dataframe thead th {\n",
       "        text-align: right;\n",
       "    }\n",
       "</style>\n",
       "<table border=\"1\" class=\"dataframe\">\n",
       "  <thead>\n",
       "    <tr style=\"text-align: right;\">\n",
       "      <th></th>\n",
       "      <th>App</th>\n",
       "      <th>Category</th>\n",
       "      <th>Rating</th>\n",
       "      <th>Reviews</th>\n",
       "      <th>Size</th>\n",
       "      <th>Installs</th>\n",
       "      <th>Type</th>\n",
       "      <th>Price</th>\n",
       "      <th>Content Rating</th>\n",
       "      <th>Genres</th>\n",
       "      <th>Last Updated</th>\n",
       "      <th>Current Ver</th>\n",
       "      <th>Android Ver</th>\n",
       "    </tr>\n",
       "  </thead>\n",
       "  <tbody>\n",
       "    <tr>\n",
       "      <th>2544</th>\n",
       "      <td>Facebook</td>\n",
       "      <td>SOCIAL</td>\n",
       "      <td>4.1</td>\n",
       "      <td>78158306.0</td>\n",
       "      <td>Varies with device</td>\n",
       "      <td>1,000,000,000+</td>\n",
       "      <td>Free</td>\n",
       "      <td>0</td>\n",
       "      <td>Teen</td>\n",
       "      <td>Social</td>\n",
       "      <td>August 3, 2018</td>\n",
       "      <td>Varies with device</td>\n",
       "      <td>Varies with device</td>\n",
       "    </tr>\n",
       "    <tr>\n",
       "      <th>381</th>\n",
       "      <td>WhatsApp Messenger</td>\n",
       "      <td>COMMUNICATION</td>\n",
       "      <td>4.4</td>\n",
       "      <td>69119316.0</td>\n",
       "      <td>Varies with device</td>\n",
       "      <td>1,000,000,000+</td>\n",
       "      <td>Free</td>\n",
       "      <td>0</td>\n",
       "      <td>Everyone</td>\n",
       "      <td>Communication</td>\n",
       "      <td>August 3, 2018</td>\n",
       "      <td>Varies with device</td>\n",
       "      <td>Varies with device</td>\n",
       "    </tr>\n",
       "    <tr>\n",
       "      <th>2604</th>\n",
       "      <td>Instagram</td>\n",
       "      <td>SOCIAL</td>\n",
       "      <td>4.5</td>\n",
       "      <td>66577446.0</td>\n",
       "      <td>Varies with device</td>\n",
       "      <td>1,000,000,000+</td>\n",
       "      <td>Free</td>\n",
       "      <td>0</td>\n",
       "      <td>Teen</td>\n",
       "      <td>Social</td>\n",
       "      <td>July 31, 2018</td>\n",
       "      <td>Varies with device</td>\n",
       "      <td>Varies with device</td>\n",
       "    </tr>\n",
       "    <tr>\n",
       "      <th>382</th>\n",
       "      <td>Messenger – Text and Video Chat for Free</td>\n",
       "      <td>COMMUNICATION</td>\n",
       "      <td>4.0</td>\n",
       "      <td>56646578.0</td>\n",
       "      <td>Varies with device</td>\n",
       "      <td>1,000,000,000+</td>\n",
       "      <td>Free</td>\n",
       "      <td>0</td>\n",
       "      <td>Everyone</td>\n",
       "      <td>Communication</td>\n",
       "      <td>August 1, 2018</td>\n",
       "      <td>Varies with device</td>\n",
       "      <td>Varies with device</td>\n",
       "    </tr>\n",
       "    <tr>\n",
       "      <th>1879</th>\n",
       "      <td>Clash of Clans</td>\n",
       "      <td>GAME</td>\n",
       "      <td>4.6</td>\n",
       "      <td>44893888.0</td>\n",
       "      <td>98M</td>\n",
       "      <td>100,000,000+</td>\n",
       "      <td>Free</td>\n",
       "      <td>0</td>\n",
       "      <td>Everyone 10+</td>\n",
       "      <td>Strategy</td>\n",
       "      <td>July 15, 2018</td>\n",
       "      <td>10.322.16</td>\n",
       "      <td>4.1 and up</td>\n",
       "    </tr>\n",
       "  </tbody>\n",
       "</table>\n",
       "</div>"
      ],
      "text/plain": [
       "                                           App       Category  Rating  \\\n",
       "2544                                  Facebook         SOCIAL     4.1   \n",
       "381                         WhatsApp Messenger  COMMUNICATION     4.4   \n",
       "2604                                 Instagram         SOCIAL     4.5   \n",
       "382   Messenger – Text and Video Chat for Free  COMMUNICATION     4.0   \n",
       "1879                            Clash of Clans           GAME     4.6   \n",
       "\n",
       "         Reviews                Size        Installs  Type Price  \\\n",
       "2544  78158306.0  Varies with device  1,000,000,000+  Free     0   \n",
       "381   69119316.0  Varies with device  1,000,000,000+  Free     0   \n",
       "2604  66577446.0  Varies with device  1,000,000,000+  Free     0   \n",
       "382   56646578.0  Varies with device  1,000,000,000+  Free     0   \n",
       "1879  44893888.0                 98M    100,000,000+  Free     0   \n",
       "\n",
       "     Content Rating         Genres    Last Updated         Current Ver  \\\n",
       "2544           Teen         Social  August 3, 2018  Varies with device   \n",
       "381        Everyone  Communication  August 3, 2018  Varies with device   \n",
       "2604           Teen         Social   July 31, 2018  Varies with device   \n",
       "382        Everyone  Communication  August 1, 2018  Varies with device   \n",
       "1879   Everyone 10+       Strategy   July 15, 2018           10.322.16   \n",
       "\n",
       "             Android Ver  \n",
       "2544  Varies with device  \n",
       "381   Varies with device  \n",
       "2604  Varies with device  \n",
       "382   Varies with device  \n",
       "1879          4.1 and up  "
      ]
     },
     "execution_count": 22,
     "metadata": {},
     "output_type": "execute_result"
    }
   ],
   "source": [
    "Android.head()"
   ]
  },
  {
   "cell_type": "code",
   "execution_count": 23,
   "id": "1b596e9d",
   "metadata": {},
   "outputs": [
    {
     "data": {
      "text/plain": [
       "(8904, 13)"
      ]
     },
     "execution_count": 23,
     "metadata": {},
     "output_type": "execute_result"
    }
   ],
   "source": [
    "Android.shape"
   ]
  },
  {
   "cell_type": "code",
   "execution_count": 24,
   "id": "a8680bf6",
   "metadata": {},
   "outputs": [
    {
     "data": {
      "text/html": [
       "<div>\n",
       "<style scoped>\n",
       "    .dataframe tbody tr th:only-of-type {\n",
       "        vertical-align: middle;\n",
       "    }\n",
       "\n",
       "    .dataframe tbody tr th {\n",
       "        vertical-align: top;\n",
       "    }\n",
       "\n",
       "    .dataframe thead th {\n",
       "        text-align: right;\n",
       "    }\n",
       "</style>\n",
       "<table border=\"1\" class=\"dataframe\">\n",
       "  <thead>\n",
       "    <tr style=\"text-align: right;\">\n",
       "      <th></th>\n",
       "      <th>App</th>\n",
       "      <th>Category</th>\n",
       "      <th>Rating</th>\n",
       "      <th>Reviews</th>\n",
       "      <th>Size</th>\n",
       "      <th>Installs</th>\n",
       "      <th>Type</th>\n",
       "      <th>Price</th>\n",
       "      <th>Content Rating</th>\n",
       "      <th>Genres</th>\n",
       "      <th>Last Updated</th>\n",
       "      <th>Current Ver</th>\n",
       "      <th>Android Ver</th>\n",
       "    </tr>\n",
       "  </thead>\n",
       "  <tbody>\n",
       "    <tr>\n",
       "      <th>8884</th>\n",
       "      <td>\"i DT\" Fútbol. Todos Somos Técnicos.</td>\n",
       "      <td>SPORTS</td>\n",
       "      <td>NaN</td>\n",
       "      <td>27.0</td>\n",
       "      <td>3.6M</td>\n",
       "      <td>500+</td>\n",
       "      <td>Free</td>\n",
       "      <td>0</td>\n",
       "      <td>Everyone</td>\n",
       "      <td>Sports</td>\n",
       "      <td>October 7, 2017</td>\n",
       "      <td>0.22</td>\n",
       "      <td>4.1 and up</td>\n",
       "    </tr>\n",
       "    <tr>\n",
       "      <th>8532</th>\n",
       "      <td>+Download 4 Instagram Twitter</td>\n",
       "      <td>SOCIAL</td>\n",
       "      <td>4.5</td>\n",
       "      <td>40467.0</td>\n",
       "      <td>22M</td>\n",
       "      <td>1,000,000+</td>\n",
       "      <td>Free</td>\n",
       "      <td>0</td>\n",
       "      <td>Everyone</td>\n",
       "      <td>Social</td>\n",
       "      <td>August 2, 2018</td>\n",
       "      <td>5.03</td>\n",
       "      <td>4.1 and up</td>\n",
       "    </tr>\n",
       "    <tr>\n",
       "      <th>324</th>\n",
       "      <td>- Free Comics - Comic Apps</td>\n",
       "      <td>COMICS</td>\n",
       "      <td>3.5</td>\n",
       "      <td>115.0</td>\n",
       "      <td>9.1M</td>\n",
       "      <td>10,000+</td>\n",
       "      <td>Free</td>\n",
       "      <td>0</td>\n",
       "      <td>Mature 17+</td>\n",
       "      <td>Comics</td>\n",
       "      <td>July 13, 2018</td>\n",
       "      <td>5.0.12</td>\n",
       "      <td>5.0 and up</td>\n",
       "    </tr>\n",
       "    <tr>\n",
       "      <th>4541</th>\n",
       "      <td>.R</td>\n",
       "      <td>TOOLS</td>\n",
       "      <td>4.5</td>\n",
       "      <td>259.0</td>\n",
       "      <td>203k</td>\n",
       "      <td>10,000+</td>\n",
       "      <td>Free</td>\n",
       "      <td>0</td>\n",
       "      <td>Everyone</td>\n",
       "      <td>Tools</td>\n",
       "      <td>September 16, 2014</td>\n",
       "      <td>1.1.06</td>\n",
       "      <td>1.5 and up</td>\n",
       "    </tr>\n",
       "    <tr>\n",
       "      <th>4636</th>\n",
       "      <td>/u/app</td>\n",
       "      <td>COMMUNICATION</td>\n",
       "      <td>4.7</td>\n",
       "      <td>573.0</td>\n",
       "      <td>53M</td>\n",
       "      <td>10,000+</td>\n",
       "      <td>Free</td>\n",
       "      <td>0</td>\n",
       "      <td>Mature 17+</td>\n",
       "      <td>Communication</td>\n",
       "      <td>July 3, 2018</td>\n",
       "      <td>4.2.4</td>\n",
       "      <td>4.1 and up</td>\n",
       "    </tr>\n",
       "    <tr>\n",
       "      <th>...</th>\n",
       "      <td>...</td>\n",
       "      <td>...</td>\n",
       "      <td>...</td>\n",
       "      <td>...</td>\n",
       "      <td>...</td>\n",
       "      <td>...</td>\n",
       "      <td>...</td>\n",
       "      <td>...</td>\n",
       "      <td>...</td>\n",
       "      <td>...</td>\n",
       "      <td>...</td>\n",
       "      <td>...</td>\n",
       "      <td>...</td>\n",
       "    </tr>\n",
       "    <tr>\n",
       "      <th>6420</th>\n",
       "      <td>감성학원 BL 첫사랑</td>\n",
       "      <td>COMICS</td>\n",
       "      <td>4.4</td>\n",
       "      <td>190.0</td>\n",
       "      <td>34M</td>\n",
       "      <td>10,000+</td>\n",
       "      <td>Free</td>\n",
       "      <td>0</td>\n",
       "      <td>Everyone</td>\n",
       "      <td>Comics</td>\n",
       "      <td>November 17, 2017</td>\n",
       "      <td>3.2.1</td>\n",
       "      <td>3.0 and up</td>\n",
       "    </tr>\n",
       "    <tr>\n",
       "      <th>6334</th>\n",
       "      <td>뽕티비 - 개인방송, 인터넷방송, BJ방송</td>\n",
       "      <td>VIDEO_PLAYERS</td>\n",
       "      <td>NaN</td>\n",
       "      <td>414.0</td>\n",
       "      <td>59M</td>\n",
       "      <td>100,000+</td>\n",
       "      <td>Free</td>\n",
       "      <td>0</td>\n",
       "      <td>Mature 17+</td>\n",
       "      <td>Video Players &amp; Editors</td>\n",
       "      <td>July 18, 2018</td>\n",
       "      <td>4.0.7</td>\n",
       "      <td>4.0.3 and up</td>\n",
       "    </tr>\n",
       "    <tr>\n",
       "      <th>2575</th>\n",
       "      <td>💘 WhatsLov: Smileys of love, stickers and GIF</td>\n",
       "      <td>SOCIAL</td>\n",
       "      <td>4.6</td>\n",
       "      <td>22098.0</td>\n",
       "      <td>18M</td>\n",
       "      <td>1,000,000+</td>\n",
       "      <td>Free</td>\n",
       "      <td>0</td>\n",
       "      <td>Everyone</td>\n",
       "      <td>Social</td>\n",
       "      <td>July 24, 2018</td>\n",
       "      <td>4.2.4</td>\n",
       "      <td>4.0.3 and up</td>\n",
       "    </tr>\n",
       "    <tr>\n",
       "      <th>7559</th>\n",
       "      <td>📏 Smart Ruler ↔️ cm/inch measuring for homework!</td>\n",
       "      <td>TOOLS</td>\n",
       "      <td>4.0</td>\n",
       "      <td>19.0</td>\n",
       "      <td>3.2M</td>\n",
       "      <td>10,000+</td>\n",
       "      <td>Free</td>\n",
       "      <td>0</td>\n",
       "      <td>Everyone</td>\n",
       "      <td>Tools</td>\n",
       "      <td>October 21, 2017</td>\n",
       "      <td>1.0</td>\n",
       "      <td>4.2 and up</td>\n",
       "    </tr>\n",
       "    <tr>\n",
       "      <th>882</th>\n",
       "      <td>🔥 Football Wallpapers 4K | Full HD Backgrounds 😍</td>\n",
       "      <td>ENTERTAINMENT</td>\n",
       "      <td>4.7</td>\n",
       "      <td>11661.0</td>\n",
       "      <td>4.0M</td>\n",
       "      <td>1,000,000+</td>\n",
       "      <td>Free</td>\n",
       "      <td>0</td>\n",
       "      <td>Everyone</td>\n",
       "      <td>Entertainment</td>\n",
       "      <td>July 14, 2018</td>\n",
       "      <td>1.1.3.2</td>\n",
       "      <td>4.0.3 and up</td>\n",
       "    </tr>\n",
       "  </tbody>\n",
       "</table>\n",
       "<p>8904 rows × 13 columns</p>\n",
       "</div>"
      ],
      "text/plain": [
       "                                                   App       Category  Rating  \\\n",
       "8884              \"i DT\" Fútbol. Todos Somos Técnicos.         SPORTS     NaN   \n",
       "8532                     +Download 4 Instagram Twitter         SOCIAL     4.5   \n",
       "324                         - Free Comics - Comic Apps         COMICS     3.5   \n",
       "4541                                                .R          TOOLS     4.5   \n",
       "4636                                            /u/app  COMMUNICATION     4.7   \n",
       "...                                                ...            ...     ...   \n",
       "6420                                       감성학원 BL 첫사랑         COMICS     4.4   \n",
       "6334                           뽕티비 - 개인방송, 인터넷방송, BJ방송  VIDEO_PLAYERS     NaN   \n",
       "2575     💘 WhatsLov: Smileys of love, stickers and GIF         SOCIAL     4.6   \n",
       "7559  📏 Smart Ruler ↔️ cm/inch measuring for homework!          TOOLS     4.0   \n",
       "882   🔥 Football Wallpapers 4K | Full HD Backgrounds 😍  ENTERTAINMENT     4.7   \n",
       "\n",
       "      Reviews  Size    Installs  Type Price Content Rating  \\\n",
       "8884     27.0  3.6M        500+  Free     0       Everyone   \n",
       "8532  40467.0   22M  1,000,000+  Free     0       Everyone   \n",
       "324     115.0  9.1M     10,000+  Free     0     Mature 17+   \n",
       "4541    259.0  203k     10,000+  Free     0       Everyone   \n",
       "4636    573.0   53M     10,000+  Free     0     Mature 17+   \n",
       "...       ...   ...         ...   ...   ...            ...   \n",
       "6420    190.0   34M     10,000+  Free     0       Everyone   \n",
       "6334    414.0   59M    100,000+  Free     0     Mature 17+   \n",
       "2575  22098.0   18M  1,000,000+  Free     0       Everyone   \n",
       "7559     19.0  3.2M     10,000+  Free     0       Everyone   \n",
       "882   11661.0  4.0M  1,000,000+  Free     0       Everyone   \n",
       "\n",
       "                       Genres        Last Updated Current Ver   Android Ver  \n",
       "8884                   Sports     October 7, 2017        0.22    4.1 and up  \n",
       "8532                   Social      August 2, 2018        5.03    4.1 and up  \n",
       "324                    Comics       July 13, 2018      5.0.12    5.0 and up  \n",
       "4541                    Tools  September 16, 2014      1.1.06    1.5 and up  \n",
       "4636            Communication        July 3, 2018       4.2.4    4.1 and up  \n",
       "...                       ...                 ...         ...           ...  \n",
       "6420                   Comics   November 17, 2017       3.2.1    3.0 and up  \n",
       "6334  Video Players & Editors       July 18, 2018       4.0.7  4.0.3 and up  \n",
       "2575                   Social       July 24, 2018       4.2.4  4.0.3 and up  \n",
       "7559                    Tools    October 21, 2017         1.0    4.2 and up  \n",
       "882             Entertainment       July 14, 2018     1.1.3.2  4.0.3 and up  \n",
       "\n",
       "[8904 rows x 13 columns]"
      ]
     },
     "execution_count": 24,
     "metadata": {},
     "output_type": "execute_result"
    }
   ],
   "source": [
    "Android.sort_values(\"App\")"
   ]
  },
  {
   "cell_type": "markdown",
   "id": "eaa8722a",
   "metadata": {},
   "source": [
    "### Ord Function is Used to Get ASCII Values of Characters"
   ]
  },
  {
   "cell_type": "code",
   "execution_count": 25,
   "id": "023a6bef",
   "metadata": {},
   "outputs": [
    {
     "name": "stdout",
     "output_type": "stream",
     "text": [
      "70\n",
      "78\n"
     ]
    }
   ],
   "source": [
    "print(ord('F'))\n",
    "print(ord('N'))\n"
   ]
  },
  {
   "cell_type": "code",
   "execution_count": 26,
   "id": "b55c3a20",
   "metadata": {},
   "outputs": [
    {
     "name": "stdout",
     "output_type": "stream",
     "text": [
      "70\n",
      "97\n",
      "99\n",
      "101\n",
      "98\n",
      "111\n",
      "111\n",
      "107\n",
      "128293\n",
      "128525\n"
     ]
    }
   ],
   "source": [
    "app=\"Facebook🔥😍\"\n",
    "for i in app:\n",
    "    print(ord(i))"
   ]
  },
  {
   "cell_type": "code",
   "execution_count": 27,
   "id": "80acc44c",
   "metadata": {},
   "outputs": [
    {
     "name": "stdout",
     "output_type": "stream",
     "text": [
      "ASCII\n",
      "ASCII\n",
      "ASCII\n",
      "ASCII\n",
      "ASCII\n",
      "ASCII\n",
      "ASCII\n",
      "ASCII\n",
      "Non ASCII\n",
      "Non ASCII\n"
     ]
    }
   ],
   "source": [
    "app=\"Facebook🔥😍\"\n",
    "for i in app:\n",
    "    if ord(i)<128:\n",
    "         print(\"ASCII\")\n",
    "    else:\n",
    "         print(\"Non ASCII\")"
   ]
  },
  {
   "cell_type": "code",
   "execution_count": 28,
   "id": "d8efc77b",
   "metadata": {},
   "outputs": [],
   "source": [
    "def English_App(app_name):\n",
    "    for i in app_name:\n",
    "        if ord(i)<128:\n",
    "            return True\n",
    "        else:\n",
    "            return False\n",
    "        "
   ]
  },
  {
   "cell_type": "code",
   "execution_count": 29,
   "id": "3798d13d",
   "metadata": {},
   "outputs": [
    {
     "data": {
      "text/plain": [
       "False"
      ]
     },
     "execution_count": 29,
     "metadata": {},
     "output_type": "execute_result"
    }
   ],
   "source": [
    "English_App(\"🔥 Football Wallpapers 4K | Full HD\")"
   ]
  },
  {
   "cell_type": "code",
   "execution_count": 30,
   "id": "7d6519ee",
   "metadata": {},
   "outputs": [
    {
     "data": {
      "text/plain": [
       "True"
      ]
     },
     "execution_count": 30,
     "metadata": {},
     "output_type": "execute_result"
    }
   ],
   "source": [
    "English_App(\"Facebook🔥😍\")"
   ]
  },
  {
   "cell_type": "code",
   "execution_count": 31,
   "id": "3436c1a7",
   "metadata": {},
   "outputs": [
    {
     "data": {
      "text/plain": [
       "False"
      ]
     },
     "execution_count": 31,
     "metadata": {},
     "output_type": "execute_result"
    }
   ],
   "source": [
    "English_App(\"🔥😍Facebook\")"
   ]
  },
  {
   "cell_type": "code",
   "execution_count": 32,
   "id": "8d8d4a4d",
   "metadata": {},
   "outputs": [],
   "source": [
    "def English(app_name):\n",
    "    non_eng=0\n",
    "    for i in app_name:\n",
    "        if ord(i)>127:\n",
    "            non_eng+=1\n",
    "    if non_eng>3:\n",
    "        return False\n",
    "    else:\n",
    "        return True\n",
    "        \n",
    "    "
   ]
  },
  {
   "cell_type": "code",
   "execution_count": 33,
   "id": "9b0d1eb6",
   "metadata": {},
   "outputs": [
    {
     "data": {
      "text/plain": [
       "False"
      ]
     },
     "execution_count": 33,
     "metadata": {},
     "output_type": "execute_result"
    }
   ],
   "source": [
    "English('감성학원첫사랑')"
   ]
  },
  {
   "cell_type": "code",
   "execution_count": 34,
   "id": "2d19d4ea",
   "metadata": {},
   "outputs": [
    {
     "data": {
      "text/plain": [
       "True"
      ]
     },
     "execution_count": 34,
     "metadata": {},
     "output_type": "execute_result"
    }
   ],
   "source": [
    "English(\"🔥😍Facebook😍\")"
   ]
  },
  {
   "cell_type": "code",
   "execution_count": 35,
   "id": "ab20c123",
   "metadata": {},
   "outputs": [
    {
     "data": {
      "text/plain": [
       "2544    True\n",
       "381     True\n",
       "2604    True\n",
       "382     True\n",
       "1879    True\n",
       "        ... \n",
       "8501    True\n",
       "2460    True\n",
       "9713    True\n",
       "8495    True\n",
       "5086    True\n",
       "Name: App, Length: 8904, dtype: bool"
      ]
     },
     "execution_count": 35,
     "metadata": {},
     "output_type": "execute_result"
    }
   ],
   "source": [
    "Android[\"App\"].apply(English)"
   ]
  },
  {
   "cell_type": "code",
   "execution_count": 36,
   "id": "4a1b1bf5",
   "metadata": {},
   "outputs": [
    {
     "data": {
      "text/plain": [
       "True     8863\n",
       "False      41\n",
       "Name: App, dtype: int64"
      ]
     },
     "execution_count": 36,
     "metadata": {},
     "output_type": "execute_result"
    }
   ],
   "source": [
    "Android[\"App\"].apply(English).value_counts()"
   ]
  },
  {
   "cell_type": "markdown",
   "id": "9e72c1aa",
   "metadata": {},
   "source": [
    "# We Required Only English Names Apps"
   ]
  },
  {
   "cell_type": "code",
   "execution_count": 47,
   "id": "e86d449c",
   "metadata": {},
   "outputs": [
    {
     "data": {
      "text/plain": [
       "0"
      ]
     },
     "execution_count": 47,
     "metadata": {},
     "output_type": "execute_result"
    }
   ],
   "source": [
    "is_english=Android[\"App\"].apply(English)\n",
    "is_english.isnull().sum()"
   ]
  },
  {
   "cell_type": "code",
   "execution_count": 48,
   "id": "afb8ab6b",
   "metadata": {},
   "outputs": [
    {
     "data": {
      "text/plain": [
       "(8904,)"
      ]
     },
     "execution_count": 48,
     "metadata": {},
     "output_type": "execute_result"
    }
   ],
   "source": [
    "is_english.shape"
   ]
  },
  {
   "cell_type": "code",
   "execution_count": 53,
   "id": "3b5367ac",
   "metadata": {},
   "outputs": [],
   "source": [
    "Android_Final=Android[is_english].copy()"
   ]
  },
  {
   "cell_type": "code",
   "execution_count": 54,
   "id": "528beae7",
   "metadata": {},
   "outputs": [
    {
     "data": {
      "text/plain": [
       "(8863, 13)"
      ]
     },
     "execution_count": 54,
     "metadata": {},
     "output_type": "execute_result"
    }
   ],
   "source": [
    "Android_Final.shape"
   ]
  },
  {
   "cell_type": "code",
   "execution_count": 55,
   "id": "80185ba3",
   "metadata": {},
   "outputs": [
    {
     "data": {
      "text/html": [
       "<div>\n",
       "<style scoped>\n",
       "    .dataframe tbody tr th:only-of-type {\n",
       "        vertical-align: middle;\n",
       "    }\n",
       "\n",
       "    .dataframe tbody tr th {\n",
       "        vertical-align: top;\n",
       "    }\n",
       "\n",
       "    .dataframe thead th {\n",
       "        text-align: right;\n",
       "    }\n",
       "</style>\n",
       "<table border=\"1\" class=\"dataframe\">\n",
       "  <thead>\n",
       "    <tr style=\"text-align: right;\">\n",
       "      <th></th>\n",
       "      <th>App</th>\n",
       "      <th>Category</th>\n",
       "      <th>Rating</th>\n",
       "      <th>Reviews</th>\n",
       "      <th>Size</th>\n",
       "      <th>Installs</th>\n",
       "      <th>Type</th>\n",
       "      <th>Price</th>\n",
       "      <th>Content Rating</th>\n",
       "      <th>Genres</th>\n",
       "      <th>Last Updated</th>\n",
       "      <th>Current Ver</th>\n",
       "      <th>Android Ver</th>\n",
       "    </tr>\n",
       "  </thead>\n",
       "  <tbody>\n",
       "    <tr>\n",
       "      <th>2544</th>\n",
       "      <td>Facebook</td>\n",
       "      <td>SOCIAL</td>\n",
       "      <td>4.1</td>\n",
       "      <td>78158306.0</td>\n",
       "      <td>Varies with device</td>\n",
       "      <td>1,000,000,000+</td>\n",
       "      <td>Free</td>\n",
       "      <td>0</td>\n",
       "      <td>Teen</td>\n",
       "      <td>Social</td>\n",
       "      <td>August 3, 2018</td>\n",
       "      <td>Varies with device</td>\n",
       "      <td>Varies with device</td>\n",
       "    </tr>\n",
       "    <tr>\n",
       "      <th>381</th>\n",
       "      <td>WhatsApp Messenger</td>\n",
       "      <td>COMMUNICATION</td>\n",
       "      <td>4.4</td>\n",
       "      <td>69119316.0</td>\n",
       "      <td>Varies with device</td>\n",
       "      <td>1,000,000,000+</td>\n",
       "      <td>Free</td>\n",
       "      <td>0</td>\n",
       "      <td>Everyone</td>\n",
       "      <td>Communication</td>\n",
       "      <td>August 3, 2018</td>\n",
       "      <td>Varies with device</td>\n",
       "      <td>Varies with device</td>\n",
       "    </tr>\n",
       "    <tr>\n",
       "      <th>2604</th>\n",
       "      <td>Instagram</td>\n",
       "      <td>SOCIAL</td>\n",
       "      <td>4.5</td>\n",
       "      <td>66577446.0</td>\n",
       "      <td>Varies with device</td>\n",
       "      <td>1,000,000,000+</td>\n",
       "      <td>Free</td>\n",
       "      <td>0</td>\n",
       "      <td>Teen</td>\n",
       "      <td>Social</td>\n",
       "      <td>July 31, 2018</td>\n",
       "      <td>Varies with device</td>\n",
       "      <td>Varies with device</td>\n",
       "    </tr>\n",
       "    <tr>\n",
       "      <th>382</th>\n",
       "      <td>Messenger – Text and Video Chat for Free</td>\n",
       "      <td>COMMUNICATION</td>\n",
       "      <td>4.0</td>\n",
       "      <td>56646578.0</td>\n",
       "      <td>Varies with device</td>\n",
       "      <td>1,000,000,000+</td>\n",
       "      <td>Free</td>\n",
       "      <td>0</td>\n",
       "      <td>Everyone</td>\n",
       "      <td>Communication</td>\n",
       "      <td>August 1, 2018</td>\n",
       "      <td>Varies with device</td>\n",
       "      <td>Varies with device</td>\n",
       "    </tr>\n",
       "    <tr>\n",
       "      <th>1879</th>\n",
       "      <td>Clash of Clans</td>\n",
       "      <td>GAME</td>\n",
       "      <td>4.6</td>\n",
       "      <td>44893888.0</td>\n",
       "      <td>98M</td>\n",
       "      <td>100,000,000+</td>\n",
       "      <td>Free</td>\n",
       "      <td>0</td>\n",
       "      <td>Everyone 10+</td>\n",
       "      <td>Strategy</td>\n",
       "      <td>July 15, 2018</td>\n",
       "      <td>10.322.16</td>\n",
       "      <td>4.1 and up</td>\n",
       "    </tr>\n",
       "  </tbody>\n",
       "</table>\n",
       "</div>"
      ],
      "text/plain": [
       "                                           App       Category  Rating  \\\n",
       "2544                                  Facebook         SOCIAL     4.1   \n",
       "381                         WhatsApp Messenger  COMMUNICATION     4.4   \n",
       "2604                                 Instagram         SOCIAL     4.5   \n",
       "382   Messenger – Text and Video Chat for Free  COMMUNICATION     4.0   \n",
       "1879                            Clash of Clans           GAME     4.6   \n",
       "\n",
       "         Reviews                Size        Installs  Type Price  \\\n",
       "2544  78158306.0  Varies with device  1,000,000,000+  Free     0   \n",
       "381   69119316.0  Varies with device  1,000,000,000+  Free     0   \n",
       "2604  66577446.0  Varies with device  1,000,000,000+  Free     0   \n",
       "382   56646578.0  Varies with device  1,000,000,000+  Free     0   \n",
       "1879  44893888.0                 98M    100,000,000+  Free     0   \n",
       "\n",
       "     Content Rating         Genres    Last Updated         Current Ver  \\\n",
       "2544           Teen         Social  August 3, 2018  Varies with device   \n",
       "381        Everyone  Communication  August 3, 2018  Varies with device   \n",
       "2604           Teen         Social   July 31, 2018  Varies with device   \n",
       "382        Everyone  Communication  August 1, 2018  Varies with device   \n",
       "1879   Everyone 10+       Strategy   July 15, 2018           10.322.16   \n",
       "\n",
       "             Android Ver  \n",
       "2544  Varies with device  \n",
       "381   Varies with device  \n",
       "2604  Varies with device  \n",
       "382   Varies with device  \n",
       "1879          4.1 and up  "
      ]
     },
     "execution_count": 55,
     "metadata": {},
     "output_type": "execute_result"
    }
   ],
   "source": [
    "Android_Final.head()"
   ]
  },
  {
   "cell_type": "markdown",
   "id": "1c7d105a",
   "metadata": {},
   "source": [
    "# Analysis For Making an APP"
   ]
  },
  {
   "cell_type": "code",
   "execution_count": 56,
   "id": "63d6a9d8",
   "metadata": {},
   "outputs": [
    {
     "name": "stderr",
     "output_type": "stream",
     "text": [
      "<ipython-input-56-1e64b1af7838>:1: FutureWarning: The default value of regex will change from True to False in a future version. In addition, single character regular expressions will*not* be treated as literal strings when regex=True.\n",
      "  Android_Final[\"Installs\"]=Android_Final[\"Installs\"].str.replace(\"+\",\"\").str.replace(\",\",\"\").astype(int)\n"
     ]
    }
   ],
   "source": [
    "Android_Final[\"Installs\"]=Android_Final[\"Installs\"].str.replace(\"+\",\"\").str.replace(\",\",\"\").astype(int)"
   ]
  },
  {
   "cell_type": "code",
   "execution_count": 57,
   "id": "7b55f9c9",
   "metadata": {},
   "outputs": [
    {
     "data": {
      "text/plain": [
       "2544    1000000000\n",
       "381     1000000000\n",
       "2604    1000000000\n",
       "382     1000000000\n",
       "1879     100000000\n",
       "           ...    \n",
       "8501           500\n",
       "2460            10\n",
       "9713            10\n",
       "8495            10\n",
       "5086          1000\n",
       "Name: Installs, Length: 8863, dtype: int32"
      ]
     },
     "execution_count": 57,
     "metadata": {},
     "output_type": "execute_result"
    }
   ],
   "source": [
    "Android_Final[\"Installs\"]"
   ]
  },
  {
   "cell_type": "code",
   "execution_count": 59,
   "id": "399ed538",
   "metadata": {},
   "outputs": [
    {
     "data": {
      "text/plain": [
       "array(['SOCIAL', 'COMMUNICATION', 'GAME', 'TOOLS', 'VIDEO_PLAYERS',\n",
       "       'NEWS_AND_MAGAZINES', 'PHOTOGRAPHY', 'FAMILY', 'TRAVEL_AND_LOCAL',\n",
       "       'PERSONALIZATION', 'MAPS_AND_NAVIGATION', 'SHOPPING',\n",
       "       'ENTERTAINMENT', 'PRODUCTIVITY', 'HEALTH_AND_FITNESS', 'SPORTS',\n",
       "       'BOOKS_AND_REFERENCE', 'LIFESTYLE', 'WEATHER', 'FINANCE',\n",
       "       'BUSINESS', 'EDUCATION', 'FOOD_AND_DRINK', 'COMICS', 'PARENTING',\n",
       "       'DATING', 'HOUSE_AND_HOME', 'LIBRARIES_AND_DEMO', 'ART_AND_DESIGN',\n",
       "       'AUTO_AND_VEHICLES', 'MEDICAL', 'BEAUTY', 'EVENTS'], dtype=object)"
      ]
     },
     "execution_count": 59,
     "metadata": {},
     "output_type": "execute_result"
    }
   ],
   "source": [
    "Android_Final[\"Category\"].unique()"
   ]
  },
  {
   "cell_type": "code",
   "execution_count": 60,
   "id": "1bf9a86c",
   "metadata": {},
   "outputs": [
    {
     "data": {
      "text/plain": [
       "33"
      ]
     },
     "execution_count": 60,
     "metadata": {},
     "output_type": "execute_result"
    }
   ],
   "source": [
    "len(Android_Final[\"Category\"].unique())"
   ]
  },
  {
   "cell_type": "code",
   "execution_count": 61,
   "id": "f0246a4b",
   "metadata": {},
   "outputs": [
    {
     "data": {
      "text/plain": [
       "FAMILY                 1676\n",
       "GAME                    861\n",
       "TOOLS                   750\n",
       "BUSINESS                407\n",
       "LIFESTYLE               346\n",
       "PRODUCTIVITY            345\n",
       "FINANCE                 328\n",
       "MEDICAL                 313\n",
       "SPORTS                  301\n",
       "PERSONALIZATION         294\n",
       "COMMUNICATION           287\n",
       "HEALTH_AND_FITNESS      273\n",
       "PHOTOGRAPHY             261\n",
       "NEWS_AND_MAGAZINES      248\n",
       "SOCIAL                  236\n",
       "TRAVEL_AND_LOCAL        207\n",
       "SHOPPING                199\n",
       "BOOKS_AND_REFERENCE     190\n",
       "DATING                  165\n",
       "VIDEO_PLAYERS           159\n",
       "MAPS_AND_NAVIGATION     124\n",
       "FOOD_AND_DRINK          110\n",
       "EDUCATION               103\n",
       "ENTERTAINMENT            85\n",
       "LIBRARIES_AND_DEMO       83\n",
       "AUTO_AND_VEHICLES        82\n",
       "HOUSE_AND_HOME           73\n",
       "WEATHER                  71\n",
       "EVENTS                   63\n",
       "PARENTING                58\n",
       "ART_AND_DESIGN           57\n",
       "COMICS                   55\n",
       "BEAUTY                   53\n",
       "Name: Category, dtype: int64"
      ]
     },
     "execution_count": 61,
     "metadata": {},
     "output_type": "execute_result"
    }
   ],
   "source": [
    "Android_Final[\"Category\"].value_counts()"
   ]
  },
  {
   "cell_type": "code",
   "execution_count": 64,
   "id": "f5724198",
   "metadata": {},
   "outputs": [],
   "source": [
    "catagories=Android_Final[\"Category\"].unique()"
   ]
  },
  {
   "cell_type": "code",
   "execution_count": 66,
   "id": "ce476f7b",
   "metadata": {},
   "outputs": [
    {
     "name": "stdout",
     "output_type": "stream",
     "text": [
      "SOCIAL\n",
      "COMMUNICATION\n",
      "GAME\n"
     ]
    }
   ],
   "source": [
    "for i in catagories[:3]:\n",
    "    print(i)"
   ]
  },
  {
   "cell_type": "code",
   "execution_count": 67,
   "id": "92cf0d7f",
   "metadata": {},
   "outputs": [],
   "source": [
    "ctgry_mean_instl={}\n",
    "for i in catagories[:]:\n",
    "    df=Android_Final[Android_Final[\"Category\"]==i]\n",
    "    mean=df[\"Installs\"].mean()\n",
    "    ctgry_mean_instl[i]=mean"
   ]
  },
  {
   "cell_type": "code",
   "execution_count": 68,
   "id": "5eb07575",
   "metadata": {},
   "outputs": [
    {
     "data": {
      "text/plain": [
       "{'SOCIAL': 23253652.127118643,\n",
       " 'COMMUNICATION': 38456119.167247385,\n",
       " 'GAME': 15594505.74912892,\n",
       " 'TOOLS': 10801391.298666667,\n",
       " 'VIDEO_PLAYERS': 24727872.452830188,\n",
       " 'NEWS_AND_MAGAZINES': 9549178.467741935,\n",
       " 'PHOTOGRAPHY': 17840110.40229885,\n",
       " 'FAMILY': 3701608.406921241,\n",
       " 'TRAVEL_AND_LOCAL': 13984077.710144928,\n",
       " 'PERSONALIZATION': 5201482.6122448975,\n",
       " 'MAPS_AND_NAVIGATION': 4056941.7741935486,\n",
       " 'SHOPPING': 7036877.311557789,\n",
       " 'ENTERTAINMENT': 11640705.88235294,\n",
       " 'PRODUCTIVITY': 16787331.344927534,\n",
       " 'HEALTH_AND_FITNESS': 4188821.9853479853,\n",
       " 'SPORTS': 3638640.1428571427,\n",
       " 'BOOKS_AND_REFERENCE': 8767811.894736841,\n",
       " 'LIFESTYLE': 1437816.2687861272,\n",
       " 'WEATHER': 5074486.197183099,\n",
       " 'FINANCE': 1387692.475609756,\n",
       " 'BUSINESS': 1712290.1474201474,\n",
       " 'EDUCATION': 1833495.145631068,\n",
       " 'FOOD_AND_DRINK': 1924897.7363636363,\n",
       " 'COMICS': 817657.2727272727,\n",
       " 'PARENTING': 542603.6206896552,\n",
       " 'DATING': 854028.8303030303,\n",
       " 'HOUSE_AND_HOME': 1331540.5616438356,\n",
       " 'LIBRARIES_AND_DEMO': 638503.734939759,\n",
       " 'ART_AND_DESIGN': 1986335.0877192982,\n",
       " 'AUTO_AND_VEHICLES': 647317.8170731707,\n",
       " 'MEDICAL': 120550.61980830671,\n",
       " 'BEAUTY': 513151.88679245283,\n",
       " 'EVENTS': 253542.22222222222}"
      ]
     },
     "execution_count": 68,
     "metadata": {},
     "output_type": "execute_result"
    }
   ],
   "source": [
    "ctgry_mean_instl"
   ]
  },
  {
   "cell_type": "code",
   "execution_count": 74,
   "id": "2676216e",
   "metadata": {},
   "outputs": [
    {
     "data": {
      "text/plain": [
       "Category\n",
       "ART_AND_DESIGN         1.986335e+06\n",
       "AUTO_AND_VEHICLES      6.473178e+05\n",
       "BEAUTY                 5.131519e+05\n",
       "BOOKS_AND_REFERENCE    8.767812e+06\n",
       "BUSINESS               1.712290e+06\n",
       "Name: Installs, dtype: float64"
      ]
     },
     "execution_count": 74,
     "metadata": {},
     "output_type": "execute_result"
    }
   ],
   "source": [
    "cate_mean=Android_Final.groupby(\"Category\")[\"Installs\"].mean()\n",
    "cate_mean.head()"
   ]
  },
  {
   "cell_type": "code",
   "execution_count": 73,
   "id": "3bd6995e",
   "metadata": {},
   "outputs": [
    {
     "data": {
      "text/plain": [
       "Category\n",
       "COMMUNICATION    3.845612e+07\n",
       "VIDEO_PLAYERS    2.472787e+07\n",
       "SOCIAL           2.325365e+07\n",
       "PHOTOGRAPHY      1.784011e+07\n",
       "PRODUCTIVITY     1.678733e+07\n",
       "Name: Installs, dtype: float64"
      ]
     },
     "execution_count": 73,
     "metadata": {},
     "output_type": "execute_result"
    }
   ],
   "source": [
    "sorted_cat=cate_mean.sort_values(ascending=False)\n",
    "sorted_cat.head()"
   ]
  },
  {
   "cell_type": "code",
   "execution_count": 77,
   "id": "77bf0d50",
   "metadata": {},
   "outputs": [
    {
     "data": {
      "text/html": [
       "<div>\n",
       "<style scoped>\n",
       "    .dataframe tbody tr th:only-of-type {\n",
       "        vertical-align: middle;\n",
       "    }\n",
       "\n",
       "    .dataframe tbody tr th {\n",
       "        vertical-align: top;\n",
       "    }\n",
       "\n",
       "    .dataframe thead th {\n",
       "        text-align: right;\n",
       "    }\n",
       "</style>\n",
       "<table border=\"1\" class=\"dataframe\">\n",
       "  <thead>\n",
       "    <tr style=\"text-align: right;\">\n",
       "      <th></th>\n",
       "      <th>App</th>\n",
       "      <th>Category</th>\n",
       "      <th>Rating</th>\n",
       "      <th>Reviews</th>\n",
       "      <th>Size</th>\n",
       "      <th>Installs</th>\n",
       "      <th>Type</th>\n",
       "      <th>Price</th>\n",
       "      <th>Content Rating</th>\n",
       "      <th>Genres</th>\n",
       "      <th>Last Updated</th>\n",
       "      <th>Current Ver</th>\n",
       "      <th>Android Ver</th>\n",
       "    </tr>\n",
       "  </thead>\n",
       "  <tbody>\n",
       "    <tr>\n",
       "      <th>381</th>\n",
       "      <td>WhatsApp Messenger</td>\n",
       "      <td>COMMUNICATION</td>\n",
       "      <td>4.4</td>\n",
       "      <td>69119316.0</td>\n",
       "      <td>Varies with device</td>\n",
       "      <td>1000000000</td>\n",
       "      <td>Free</td>\n",
       "      <td>0</td>\n",
       "      <td>Everyone</td>\n",
       "      <td>Communication</td>\n",
       "      <td>August 3, 2018</td>\n",
       "      <td>Varies with device</td>\n",
       "      <td>Varies with device</td>\n",
       "    </tr>\n",
       "    <tr>\n",
       "      <th>382</th>\n",
       "      <td>Messenger – Text and Video Chat for Free</td>\n",
       "      <td>COMMUNICATION</td>\n",
       "      <td>4.0</td>\n",
       "      <td>56646578.0</td>\n",
       "      <td>Varies with device</td>\n",
       "      <td>1000000000</td>\n",
       "      <td>Free</td>\n",
       "      <td>0</td>\n",
       "      <td>Everyone</td>\n",
       "      <td>Communication</td>\n",
       "      <td>August 1, 2018</td>\n",
       "      <td>Varies with device</td>\n",
       "      <td>Varies with device</td>\n",
       "    </tr>\n",
       "    <tr>\n",
       "      <th>420</th>\n",
       "      <td>UC Browser - Fast Download Private &amp; Secure</td>\n",
       "      <td>COMMUNICATION</td>\n",
       "      <td>4.5</td>\n",
       "      <td>17714850.0</td>\n",
       "      <td>40M</td>\n",
       "      <td>500000000</td>\n",
       "      <td>Free</td>\n",
       "      <td>0</td>\n",
       "      <td>Teen</td>\n",
       "      <td>Communication</td>\n",
       "      <td>August 2, 2018</td>\n",
       "      <td>12.8.5.1121</td>\n",
       "      <td>4.0 and up</td>\n",
       "    </tr>\n",
       "    <tr>\n",
       "      <th>6449</th>\n",
       "      <td>BBM - Free Calls &amp; Messages</td>\n",
       "      <td>COMMUNICATION</td>\n",
       "      <td>4.3</td>\n",
       "      <td>12843436.0</td>\n",
       "      <td>Varies with device</td>\n",
       "      <td>100000000</td>\n",
       "      <td>Free</td>\n",
       "      <td>0</td>\n",
       "      <td>Everyone</td>\n",
       "      <td>Communication</td>\n",
       "      <td>August 2, 2018</td>\n",
       "      <td>Varies with device</td>\n",
       "      <td>4.0.3 and up</td>\n",
       "    </tr>\n",
       "    <tr>\n",
       "      <th>4676</th>\n",
       "      <td>Viber Messenger</td>\n",
       "      <td>COMMUNICATION</td>\n",
       "      <td>4.3</td>\n",
       "      <td>11335481.0</td>\n",
       "      <td>Varies with device</td>\n",
       "      <td>500000000</td>\n",
       "      <td>Free</td>\n",
       "      <td>0</td>\n",
       "      <td>Everyone</td>\n",
       "      <td>Communication</td>\n",
       "      <td>July 18, 2018</td>\n",
       "      <td>Varies with device</td>\n",
       "      <td>Varies with device</td>\n",
       "    </tr>\n",
       "  </tbody>\n",
       "</table>\n",
       "</div>"
      ],
      "text/plain": [
       "                                              App       Category  Rating  \\\n",
       "381                            WhatsApp Messenger  COMMUNICATION     4.4   \n",
       "382      Messenger – Text and Video Chat for Free  COMMUNICATION     4.0   \n",
       "420   UC Browser - Fast Download Private & Secure  COMMUNICATION     4.5   \n",
       "6449                  BBM - Free Calls & Messages  COMMUNICATION     4.3   \n",
       "4676                              Viber Messenger  COMMUNICATION     4.3   \n",
       "\n",
       "         Reviews                Size    Installs  Type Price Content Rating  \\\n",
       "381   69119316.0  Varies with device  1000000000  Free     0       Everyone   \n",
       "382   56646578.0  Varies with device  1000000000  Free     0       Everyone   \n",
       "420   17714850.0                 40M   500000000  Free     0           Teen   \n",
       "6449  12843436.0  Varies with device   100000000  Free     0       Everyone   \n",
       "4676  11335481.0  Varies with device   500000000  Free     0       Everyone   \n",
       "\n",
       "             Genres    Last Updated         Current Ver         Android Ver  \n",
       "381   Communication  August 3, 2018  Varies with device  Varies with device  \n",
       "382   Communication  August 1, 2018  Varies with device  Varies with device  \n",
       "420   Communication  August 2, 2018         12.8.5.1121          4.0 and up  \n",
       "6449  Communication  August 2, 2018  Varies with device        4.0.3 and up  \n",
       "4676  Communication   July 18, 2018  Varies with device  Varies with device  "
      ]
     },
     "execution_count": 77,
     "metadata": {},
     "output_type": "execute_result"
    }
   ],
   "source": [
    "com=Android_Final[Android_Final[\"Category\"]==\"COMMUNICATION\"]\n",
    "com.head()"
   ]
  },
  {
   "cell_type": "code",
   "execution_count": 78,
   "id": "66e07687",
   "metadata": {},
   "outputs": [
    {
     "data": {
      "text/html": [
       "<div>\n",
       "<style scoped>\n",
       "    .dataframe tbody tr th:only-of-type {\n",
       "        vertical-align: middle;\n",
       "    }\n",
       "\n",
       "    .dataframe tbody tr th {\n",
       "        vertical-align: top;\n",
       "    }\n",
       "\n",
       "    .dataframe thead th {\n",
       "        text-align: right;\n",
       "    }\n",
       "</style>\n",
       "<table border=\"1\" class=\"dataframe\">\n",
       "  <thead>\n",
       "    <tr style=\"text-align: right;\">\n",
       "      <th></th>\n",
       "      <th>App</th>\n",
       "      <th>Installs</th>\n",
       "    </tr>\n",
       "  </thead>\n",
       "  <tbody>\n",
       "    <tr>\n",
       "      <th>381</th>\n",
       "      <td>WhatsApp Messenger</td>\n",
       "      <td>1000000000</td>\n",
       "    </tr>\n",
       "    <tr>\n",
       "      <th>468</th>\n",
       "      <td>Skype - free IM &amp; video calls</td>\n",
       "      <td>1000000000</td>\n",
       "    </tr>\n",
       "    <tr>\n",
       "      <th>382</th>\n",
       "      <td>Messenger – Text and Video Chat for Free</td>\n",
       "      <td>1000000000</td>\n",
       "    </tr>\n",
       "    <tr>\n",
       "      <th>451</th>\n",
       "      <td>Gmail</td>\n",
       "      <td>1000000000</td>\n",
       "    </tr>\n",
       "    <tr>\n",
       "      <th>411</th>\n",
       "      <td>Google Chrome: Fast &amp; Secure</td>\n",
       "      <td>1000000000</td>\n",
       "    </tr>\n",
       "    <tr>\n",
       "      <th>464</th>\n",
       "      <td>Hangouts</td>\n",
       "      <td>1000000000</td>\n",
       "    </tr>\n",
       "    <tr>\n",
       "      <th>474</th>\n",
       "      <td>LINE: Free Calls &amp; Messages</td>\n",
       "      <td>500000000</td>\n",
       "    </tr>\n",
       "    <tr>\n",
       "      <th>4676</th>\n",
       "      <td>Viber Messenger</td>\n",
       "      <td>500000000</td>\n",
       "    </tr>\n",
       "    <tr>\n",
       "      <th>383</th>\n",
       "      <td>imo free video calls and chat</td>\n",
       "      <td>500000000</td>\n",
       "    </tr>\n",
       "    <tr>\n",
       "      <th>4039</th>\n",
       "      <td>Google Duo - High Quality Video Calls</td>\n",
       "      <td>500000000</td>\n",
       "    </tr>\n",
       "    <tr>\n",
       "      <th>420</th>\n",
       "      <td>UC Browser - Fast Download Private &amp; Secure</td>\n",
       "      <td>500000000</td>\n",
       "    </tr>\n",
       "    <tr>\n",
       "      <th>369</th>\n",
       "      <td>Android Messages</td>\n",
       "      <td>100000000</td>\n",
       "    </tr>\n",
       "    <tr>\n",
       "      <th>346</th>\n",
       "      <td>imo beta free calls and text</td>\n",
       "      <td>100000000</td>\n",
       "    </tr>\n",
       "    <tr>\n",
       "      <th>4106</th>\n",
       "      <td>Messenger Lite: Free Calls &amp; Messages</td>\n",
       "      <td>100000000</td>\n",
       "    </tr>\n",
       "    <tr>\n",
       "      <th>393</th>\n",
       "      <td>Who</td>\n",
       "      <td>100000000</td>\n",
       "    </tr>\n",
       "    <tr>\n",
       "      <th>4279</th>\n",
       "      <td>Kik</td>\n",
       "      <td>100000000</td>\n",
       "    </tr>\n",
       "    <tr>\n",
       "      <th>4422</th>\n",
       "      <td>Opera Browser: Fast and Secure</td>\n",
       "      <td>100000000</td>\n",
       "    </tr>\n",
       "    <tr>\n",
       "      <th>4302</th>\n",
       "      <td>KakaoTalk: Free Calls &amp; Text</td>\n",
       "      <td>100000000</td>\n",
       "    </tr>\n",
       "    <tr>\n",
       "      <th>395</th>\n",
       "      <td>GO SMS Pro - Messenger, Free Themes, Emoji</td>\n",
       "      <td>100000000</td>\n",
       "    </tr>\n",
       "    <tr>\n",
       "      <th>412</th>\n",
       "      <td>Firefox Browser fast &amp; private</td>\n",
       "      <td>100000000</td>\n",
       "    </tr>\n",
       "  </tbody>\n",
       "</table>\n",
       "</div>"
      ],
      "text/plain": [
       "                                              App    Installs\n",
       "381                            WhatsApp Messenger  1000000000\n",
       "468                 Skype - free IM & video calls  1000000000\n",
       "382      Messenger – Text and Video Chat for Free  1000000000\n",
       "451                                         Gmail  1000000000\n",
       "411                  Google Chrome: Fast & Secure  1000000000\n",
       "464                                      Hangouts  1000000000\n",
       "474                   LINE: Free Calls & Messages   500000000\n",
       "4676                              Viber Messenger   500000000\n",
       "383                 imo free video calls and chat   500000000\n",
       "4039        Google Duo - High Quality Video Calls   500000000\n",
       "420   UC Browser - Fast Download Private & Secure   500000000\n",
       "369                              Android Messages   100000000\n",
       "346                  imo beta free calls and text   100000000\n",
       "4106        Messenger Lite: Free Calls & Messages   100000000\n",
       "393                                           Who   100000000\n",
       "4279                                          Kik   100000000\n",
       "4422               Opera Browser: Fast and Secure   100000000\n",
       "4302                 KakaoTalk: Free Calls & Text   100000000\n",
       "395    GO SMS Pro - Messenger, Free Themes, Emoji   100000000\n",
       "412                Firefox Browser fast & private   100000000"
      ]
     },
     "execution_count": 78,
     "metadata": {},
     "output_type": "execute_result"
    }
   ],
   "source": [
    "com[[\"App\",\"Installs\"]].sort_values(\"Installs\",ascending=False).head(20)"
   ]
  },
  {
   "cell_type": "code",
   "execution_count": 80,
   "id": "0128d9a8",
   "metadata": {},
   "outputs": [
    {
     "data": {
      "text/plain": [
       "3603485.3884615386"
      ]
     },
     "execution_count": 80,
     "metadata": {},
     "output_type": "execute_result"
    }
   ],
   "source": [
    "com[com[\"Installs\"]<100000000][\"Installs\"].mean()"
   ]
  },
  {
   "cell_type": "code",
   "execution_count": null,
   "id": "12b1e3cd",
   "metadata": {},
   "outputs": [],
   "source": []
  }
 ],
 "metadata": {
  "kernelspec": {
   "display_name": "Python 3",
   "language": "python",
   "name": "python3"
  },
  "language_info": {
   "codemirror_mode": {
    "name": "ipython",
    "version": 3
   },
   "file_extension": ".py",
   "mimetype": "text/x-python",
   "name": "python",
   "nbconvert_exporter": "python",
   "pygments_lexer": "ipython3",
   "version": "3.8.8"
  }
 },
 "nbformat": 4,
 "nbformat_minor": 5
}
